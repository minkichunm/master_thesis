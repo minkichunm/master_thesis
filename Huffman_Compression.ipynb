{
 "cells": [
  {
   "cell_type": "code",
   "execution_count": 1,
   "id": "af3a67cc-0d41-4408-b7e0-7363225ce885",
   "metadata": {},
   "outputs": [],
   "source": [
    "# set module auto-reloaded \n",
    "%load_ext autoreload\n",
    "%autoreload 2"
   ]
  },
  {
   "cell_type": "code",
   "execution_count": 2,
   "id": "c83f182a",
   "metadata": {},
   "outputs": [],
   "source": [
    "# Load MNIST data set\n",
    "\n",
    "from tensorflow.keras.datasets import mnist\n",
    "train_set, test_set = mnist.load_data()"
   ]
  },
  {
   "cell_type": "code",
   "execution_count": 8,
   "id": "6c17905f-546f-4971-a682-7f40a6fcf4ec",
   "metadata": {},
   "outputs": [],
   "source": [
    "from tensorflow.keras.layers import Dense, Input, Flatten\n",
    "from tensorflow.keras.models import Model\n",
    "import tensorflow as tf\n",
    "from tensorflow import keras\n",
    "import numpy as np\n",
    "import dahuffman\n",
    "import pickle\n",
    "from Compressible_Huffman import Huffman\n",
    "\n",
    "# generate a simple NN model\n",
    "\n",
    "kernel_initializer = 'he_normal'\n",
    "activation = \"relu\"\n",
    "\n",
    "def get_model(chs=128):\n",
    "    shape = (28, 28, 1)\n",
    "\n",
    "    inputs = Input(shape)\n",
    "    layer = Flatten()(inputs)\n",
    "    layer = Dense(units=chs * 2, activation=activation, kernel_initializer=kernel_initializer)(layer)\n",
    "    layer = Dense(units=chs, activation=activation, kernel_initializer=kernel_initializer)(layer)\n",
    "    output = Dense(10, activation='linear', use_bias=True, kernel_initializer=kernel_initializer)(layer)\n",
    "\n",
    "    model = Model(inputs, output)\n",
    "    return model\n",
    "    \n",
    "# Instantiate the Huffman class and create the original model\n",
    "model = get_model()  # Replace with your own model creation code\n",
    "compNN = Huffman(model)\n",
    "optimizer = tf.optimizers.Adam(learning_rate=1e-3, beta_1=0.9)\n",
    "compNN.compile(optimizer, loss=keras.losses.SparseCategoricalCrossentropy(from_logits=True))\n",
    "\n",
    "original_weights = compNN.net_model.get_weights()\n",
    "\n",
    "# Save the original weights\n",
    "with open('original_model_weights.pkl', 'wb') as file:\n",
    "    pickle.dump(original_weights, file)\n",
    "\n",
    "# compNN.weights\n",
    "compressed_weights = compNN.compressNN()\n",
    "\n",
    "# set compNN.weights to 0\n",
    "for layer in compNN.net_model.layers:\n",
    "    if isinstance(layer, tf.keras.layers.Dense):\n",
    "        layer.set_weights([tf.zeros_like(w) for w in layer.get_weights()])\n",
    "            \n",
    "# Save the compNN instance to a file\n",
    "with open('compressed_nn.pkl', 'wb') as outp:  # Overwrites any existing file.\n",
    "    pickle.dump(compNN.net_model, outp, pickle.HIGHEST_PROTOCOL)\n",
    "    pickle.dump(compNN.codec, outp, pickle.HIGHEST_PROTOCOL)\n",
    "    pickle.dump(compressed_weights, outp, pickle.HIGHEST_PROTOCOL)"
   ]
  },
  {
   "cell_type": "code",
   "execution_count": 6,
   "id": "b5c4ee6c-b185-402a-a7b0-aa6da468efa4",
   "metadata": {},
   "outputs": [],
   "source": [
    "with open('test1.pkl', 'wb') as outp:  # Overwrites any existing file.\n",
    "    pickle.dump(compNN.net_model, outp, pickle.HIGHEST_PROTOCOL)"
   ]
  },
  {
   "cell_type": "code",
   "execution_count": 7,
   "id": "6993597b-fe23-487a-bf77-f3dfc7f2048c",
   "metadata": {},
   "outputs": [
    {
     "ename": "AttributeError",
     "evalue": "'Functional' object has no attribute 'net_model'",
     "output_type": "error",
     "traceback": [
      "\u001b[0;31m---------------------------------------------------------------------------\u001b[0m",
      "\u001b[0;31mAttributeError\u001b[0m                            Traceback (most recent call last)",
      "Cell \u001b[0;32mIn[7], line 2\u001b[0m\n\u001b[1;32m      1\u001b[0m \u001b[38;5;28;01mwith\u001b[39;00m \u001b[38;5;28mopen\u001b[39m(\u001b[38;5;124m'\u001b[39m\u001b[38;5;124mtest2.pkl\u001b[39m\u001b[38;5;124m'\u001b[39m, \u001b[38;5;124m'\u001b[39m\u001b[38;5;124mwb\u001b[39m\u001b[38;5;124m'\u001b[39m) \u001b[38;5;28;01mas\u001b[39;00m outp:  \u001b[38;5;66;03m# Overwrites any existing file.\u001b[39;00m\n\u001b[0;32m----> 2\u001b[0m     pickle\u001b[38;5;241m.\u001b[39mdump(\u001b[43mmodel\u001b[49m\u001b[38;5;241;43m.\u001b[39;49m\u001b[43mnet_model\u001b[49m, outp, pickle\u001b[38;5;241m.\u001b[39mHIGHEST_PROTOCOL)\n",
      "\u001b[0;31mAttributeError\u001b[0m: 'Functional' object has no attribute 'net_model'"
     ]
    }
   ],
   "source": [
    "with open('test2.pkl', 'wb') as outp:  # Overwrites any existing file.\n",
    "    pickle.dump(model.net_model, outp, pickle.HIGHEST_PROTOCOL)"
   ]
  }
 ],
 "metadata": {
  "kernelspec": {
   "display_name": "Python 3 (ipykernel)",
   "language": "python",
   "name": "python3"
  },
  "language_info": {
   "codemirror_mode": {
    "name": "ipython",
    "version": 3
   },
   "file_extension": ".py",
   "mimetype": "text/x-python",
   "name": "python",
   "nbconvert_exporter": "python",
   "pygments_lexer": "ipython3",
   "version": "3.10.12"
  }
 },
 "nbformat": 4,
 "nbformat_minor": 5
}
