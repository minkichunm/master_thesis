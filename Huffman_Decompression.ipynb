{
 "cells": [
  {
   "cell_type": "code",
   "execution_count": 3,
   "id": "cf318b02-028e-4235-9f03-048a7d41e433",
   "metadata": {},
   "outputs": [],
   "source": [
    "# set module auto-reloaded \n",
    "%load_ext autoreload\n",
    "%autoreload 2"
   ]
  },
  {
   "cell_type": "code",
   "execution_count": 5,
   "id": "01627cc9-b85e-4bd4-a4de-74e37afc4e20",
   "metadata": {},
   "outputs": [],
   "source": [
    "from tensorflow.keras.layers import Dense, Input, Flatten\n",
    "from tensorflow.keras.models import Model\n",
    "import tensorflow as tf\n",
    "from tensorflow import keras\n",
    "import numpy as np\n",
    "import dahuffman\n",
    "import pickle\n",
    "from Compressible_Huffman import Huffman\n",
    "\n"
   ]
  },
  {
   "cell_type": "code",
   "execution_count": 6,
   "id": "72c02018-fbc7-4b1a-8988-97c9aa95f7d5",
   "metadata": {},
   "outputs": [],
   "source": [
    "# Load the CompressibleNN instance\n",
    "with open('compressed_nn.pkl', 'rb') as compressed_nn:\n",
    "    net_model = pickle.load(compressed_nn)\n",
    "    codec = pickle.load(compressed_nn)\n",
    "    compressed_model_weights = pickle.load(compressed_nn)\n",
    "\n",
    "# Create a new instance of CompressibleNN\n",
    "compNN = Huffman(net_model)\n",
    "compNN.codec = codec"
   ]
  },
  {
   "cell_type": "code",
   "execution_count": 7,
   "id": "dbc8fc49-f1eb-4d8a-a1d3-881c8c25ef4b",
   "metadata": {},
   "outputs": [],
   "source": [
    "decompressed_weights = compNN.decompressNN(compressed_model_weights)"
   ]
  },
  {
   "cell_type": "code",
   "execution_count": 8,
   "id": "2d775565-e085-4f5d-97cd-8bb3cdfe3ab1",
   "metadata": {},
   "outputs": [
    {
     "name": "stdout",
     "output_type": "stream",
     "text": [
      "Differences between original and decompressed weights:\n",
      "Layer 1: Max Difference = 0.23495735228061676, Mean Difference = 0.058453723788261414\n",
      "Layer 2: Max Difference = 0.0, Mean Difference = 0.0\n",
      "Layer 3: Max Difference = 0.3986215591430664, Mean Difference = 0.101673424243927\n",
      "Layer 4: Max Difference = 0.0, Mean Difference = 0.0\n",
      "Layer 5: Max Difference = 0.5539186000823975, Mean Difference = 0.14277523756027222\n",
      "Layer 6: Max Difference = 0.0, Mean Difference = 0.0\n"
     ]
    }
   ],
   "source": [
    "# Compare the original weights with the decompressed weights\n",
    "with open('original_model_weights.pkl', 'rb') as file:\n",
    "    original_model_weights = pickle.load(file)\n",
    "\n",
    "differences = compNN.compare_weights(original_model_weights, decompressed_weights)\n",
    "\n",
    "print(\"Differences between original and decompressed weights:\")\n",
    "for i, diff in enumerate(differences):\n",
    "    print(f\"Layer {i+1}: Max Difference = {np.max(diff)}, Mean Difference = {np.mean(diff)}\")\n"
   ]
  },
  {
   "cell_type": "code",
   "execution_count": 1,
   "id": "6f16e96c-2803-49d9-8860-5b3c47c99b3c",
   "metadata": {},
   "outputs": [],
   "source": [
    "# Load MNIST data set\n",
    "\n",
    "from tensorflow.keras.datasets import mnist\n",
    "train_set, test_set = mnist.load_data()"
   ]
  },
  {
   "cell_type": "code",
   "execution_count": 10,
   "id": "9398b134-4667-4b74-919c-395cecaea177",
   "metadata": {},
   "outputs": [
    {
     "name": "stdout",
     "output_type": "stream",
     "text": [
      "test acc:  9.8\n"
     ]
    }
   ],
   "source": [
    "\n",
    "res = compNN(test_set[0])\n",
    "print(\"test acc: \", 100*(np.argmax(res, axis=1)==test_set[1]).mean())"
   ]
  }
 ],
 "metadata": {
  "kernelspec": {
   "display_name": "Python 3 (ipykernel)",
   "language": "python",
   "name": "python3"
  },
  "language_info": {
   "codemirror_mode": {
    "name": "ipython",
    "version": 3
   },
   "file_extension": ".py",
   "mimetype": "text/x-python",
   "name": "python",
   "nbconvert_exporter": "python",
   "pygments_lexer": "ipython3",
   "version": "3.10.12"
  }
 },
 "nbformat": 4,
 "nbformat_minor": 5
}
