{
 "cells": [
  {
   "cell_type": "code",
   "execution_count": null,
   "id": "6e3e6082-2e87-43d9-8038-5e1ce0b3ef67",
   "metadata": {},
   "outputs": [],
   "source": [
    "#  Steps of the work:\n",
    "\n",
    "# Make a model with accessible parameters using TensorFlow 2.x\n",
    "# Write an entropy loss and add it to the network parameters for training.\n",
    "# Train a model by jointly optimizing its loss (e.g. cross entropy for classification) and the entropy for compressability.\n",
    "# Compress the model parameters using Huffman coding.\n",
    "# Analyze the results and trade-off between accuracy and compressability.\n",
    "# Write a model wrapper that can read and write the compressed parameters.\n",
    "\n",
    "# Notes:\n",
    "\n",
    "# Can be started on simple datasets like MNIST.\n",
    "# Can start from simple MLP NNs. And then extend to convs. The implementation should be generic enough so that it can support any layer.\n",
    "# Bonus: add support for normalization layers: batch norm, instance norm, etc."
   ]
  },
  {
   "cell_type": "code",
   "execution_count": 1,
   "id": "c83f182a",
   "metadata": {},
   "outputs": [],
   "source": [
    "# Load MNIST data set\n",
    "\n",
    "from tensorflow.keras.datasets import mnist\n",
    "train_set, test_set = mnist.load_data()"
   ]
  },
  {
   "cell_type": "code",
   "execution_count": 2,
   "id": "0dfd2bf9-4e53-4afb-aefc-2255be6162bb",
   "metadata": {},
   "outputs": [],
   "source": [
    "import os\n",
    "os.environ['TF_CPP_MIN_LOG_LEVEL'] = '3' \n",
    "# Allocation of 17179869184 exceeds 10% of free system memory."
   ]
  },
  {
   "cell_type": "code",
   "execution_count": 3,
   "id": "49010b4d",
   "metadata": {},
   "outputs": [],
   "source": [
    "# generate a simple NN model\n",
    "\n",
    "from tensorflow.keras.layers import Dense, Input, Flatten\n",
    "from tensorflow.keras.models import Model\n",
    "import tensorflow as tf\n",
    "from tensorflow import keras\n",
    "import numpy as np\n",
    "\n",
    "    \n",
    "kernel_initializer = 'he_normal'\n",
    "activation = \"relu\"\n",
    "\n",
    "def get_model(chs=256):\n",
    "    shape=(28,28,1)\n",
    "    \n",
    "    inputs = Input(shape)\n",
    "    layer = Flatten()(inputs)\n",
    "    layer = Dense(units=chs, activation=activation, kernel_initializer=kernel_initializer)(layer)\n",
    "    layer = Dense(units=chs, activation=activation, kernel_initializer=kernel_initializer)(layer)\n",
    "    output = Dense(10, activation='linear', use_bias=True, kernel_initializer=kernel_initializer)(layer)\n",
    "\n",
    "    model = Model(inputs, output)\n",
    "    return model\n",
    "\n"
   ]
  },
  {
   "cell_type": "code",
   "execution_count": 8,
   "id": "a7a1dc7f",
   "metadata": {},
   "outputs": [
    {
     "ename": "NameError",
     "evalue": "name 'model' is not defined",
     "output_type": "error",
     "traceback": [
      "\u001b[0;31m---------------------------------------------------------------------------\u001b[0m",
      "\u001b[0;31mNameError\u001b[0m                                 Traceback (most recent call last)",
      "Cell \u001b[0;32mIn[8], line 1\u001b[0m\n\u001b[0;32m----> 1\u001b[0m \u001b[43mmodel\u001b[49m\u001b[38;5;241m.\u001b[39mlayers\n",
      "\u001b[0;31mNameError\u001b[0m: name 'model' is not defined"
     ]
    }
   ],
   "source": [
    "# model.layers"
   ]
  },
  {
   "cell_type": "code",
   "execution_count": 23,
   "id": "49cc25ad-7b2e-4d10-927b-1fd2eaf471c8",
   "metadata": {},
   "outputs": [
    {
     "data": {
      "text/plain": [
       "<keras.engine.input_layer.InputLayer at 0xffffa033de10>"
      ]
     },
     "execution_count": 23,
     "metadata": {},
     "output_type": "execute_result"
    }
   ],
   "source": [
    "# model.layers[0]"
   ]
  },
  {
   "cell_type": "code",
   "execution_count": 25,
   "id": "19dd16ce-96f6-4b38-81a1-d3b874992753",
   "metadata": {},
   "outputs": [
    {
     "data": {
      "text/plain": [
       "[<tf.Variable 'dense/kernel:0' shape=(784, 256) dtype=float32, numpy=\n",
       " array([[ 0.04747557, -0.0241543 ,  0.06825899, ..., -0.06088347,\n",
       "         -0.01428646,  0.09181509],\n",
       "        [ 0.01840485, -0.08634035, -0.05705916, ...,  0.06484796,\n",
       "         -0.08538831, -0.06986799],\n",
       "        [ 0.08091406,  0.09522551,  0.06740516, ..., -0.02281002,\n",
       "          0.06427108, -0.05539102],\n",
       "        ...,\n",
       "        [ 0.0265468 , -0.02665523,  0.01700675, ..., -0.02849575,\n",
       "          0.06601989,  0.06358932],\n",
       "        [ 0.01959939, -0.0224366 ,  0.00977207, ..., -0.00086983,\n",
       "          0.11475715, -0.05219548],\n",
       "        [ 0.01873984,  0.05438872, -0.04925571, ...,  0.08855245,\n",
       "          0.06425571,  0.05567208]], dtype=float32)>,\n",
       " <tf.Variable 'dense/bias:0' shape=(256,) dtype=float32, numpy=\n",
       " array([-0.01938667, -0.02402712, -0.02026186, -0.01597225, -0.01930892,\n",
       "        -0.02138305, -0.02111024, -0.01609827, -0.01176102, -0.01660232,\n",
       "        -0.01214598, -0.02503965, -0.00847238, -0.01553644, -0.02141835,\n",
       "        -0.0182948 , -0.01415705, -0.02856133, -0.02235124, -0.0184906 ,\n",
       "        -0.01980454, -0.00764718, -0.01176878, -0.01462248,  0.00620595,\n",
       "        -0.01009629, -0.02009283, -0.02946283, -0.01492577, -0.01551316,\n",
       "        -0.01436281, -0.01632406, -0.00704392, -0.01266964, -0.01902247,\n",
       "        -0.02090189, -0.01933132, -0.02188158, -0.01791824, -0.02688207,\n",
       "        -0.00341474, -0.01601587, -0.01301129, -0.00638796, -0.02004089,\n",
       "        -0.00815043, -0.02182102, -0.01600932, -0.01629139, -0.01343537,\n",
       "        -0.0145917 , -0.00354202, -0.0166515 , -0.02899832, -0.02218091,\n",
       "        -0.01879885, -0.00467997, -0.00970182, -0.01921025, -0.02474514,\n",
       "        -0.01692282, -0.01159249, -0.00587611, -0.0102907 , -0.01291718,\n",
       "         0.00060772, -0.0163746 , -0.01106477, -0.01826946, -0.0179813 ,\n",
       "        -0.01114027, -0.02424564, -0.00603987, -0.00121676, -0.0128989 ,\n",
       "        -0.01123897, -0.01253339, -0.01029159, -0.01304048, -0.01889228,\n",
       "        -0.00219421, -0.02318547, -0.01113741, -0.02021942, -0.01104876,\n",
       "         0.00401117, -0.01296061, -0.02413136, -0.00431537, -0.01484058,\n",
       "         0.01411259, -0.00270068, -0.02414512, -0.00583327, -0.02049368,\n",
       "        -0.01892359, -0.02078377, -0.02537923, -0.02523067, -0.00921207,\n",
       "        -0.02255935, -0.02022262, -0.01619757, -0.01143159, -0.02011756,\n",
       "        -0.00800884, -0.02371728, -0.00665616, -0.01402137, -0.00528565,\n",
       "        -0.02804143, -0.02019164,  0.01709867, -0.02502031, -0.01744277,\n",
       "        -0.02311147, -0.00351717, -0.0261788 , -0.00951516, -0.01539325,\n",
       "        -0.01241423, -0.02606255, -0.02651384, -0.03080117, -0.01877149,\n",
       "        -0.02326756, -0.0010079 , -0.02380651, -0.01240914, -0.01494359,\n",
       "        -0.01940327, -0.00541087, -0.01420695, -0.00446315, -0.0174097 ,\n",
       "        -0.01931793, -0.02040875, -0.00845913, -0.00508324, -0.00049113,\n",
       "        -0.02254903, -0.02307448, -0.0181262 , -0.00811984, -0.01418924,\n",
       "        -0.0206768 , -0.01807068, -0.01757029, -0.01843589, -0.02276237,\n",
       "        -0.01390979,  0.0079788 , -0.01198522, -0.02001803,  0.00380727,\n",
       "        -0.01193972, -0.01614536, -0.00747141, -0.01553245,  0.00104172,\n",
       "        -0.01696779, -0.02004748, -0.01659252, -0.02594278,  0.01290498,\n",
       "        -0.01876765, -0.02164106, -0.00965409, -0.02256303, -0.02470033,\n",
       "        -0.00509433, -0.01803453, -0.02169864, -0.02505626, -0.01408079,\n",
       "        -0.01164196, -0.00757096, -0.00323357, -0.01149362, -0.02807587,\n",
       "        -0.01690694, -0.02675685, -0.01683511,  0.02005083, -0.017684  ,\n",
       "        -0.02448945, -0.01827067, -0.01418624, -0.01333413, -0.0179332 ,\n",
       "        -0.01835796, -0.01588213, -0.00591056, -0.02267829, -0.00441345,\n",
       "        -0.02929196, -0.02047062, -0.00482183, -0.0215876 , -0.00250226,\n",
       "         0.00061935, -0.02828655, -0.01084059, -0.01698123,  0.01215874,\n",
       "        -0.02055907, -0.02307399, -0.01440187, -0.00993078, -0.01773005,\n",
       "        -0.00762425, -0.00382642, -0.01428949, -0.03050961, -0.01510866,\n",
       "        -0.01470838, -0.01193099, -0.02400782, -0.02190501, -0.01119721,\n",
       "        -0.02167356, -0.02537381, -0.00413495, -0.02167464, -0.00330966,\n",
       "        -0.01122805, -0.00604918, -0.00201672, -0.01641752, -0.02481185,\n",
       "        -0.01795156, -0.01380812, -0.00859142, -0.01791237, -0.00795099,\n",
       "        -0.01031001, -0.01968211, -0.01897152, -0.01453305, -0.01873687,\n",
       "        -0.02590807, -0.00138312, -0.01574543, -0.02052166, -0.0158425 ,\n",
       "        -0.02103802, -0.00587181,  0.00159559, -0.01131681, -0.01589075,\n",
       "        -0.01830405, -0.01680087, -0.01921119, -0.01796952, -0.04937249,\n",
       "        -0.0202028 ], dtype=float32)>,\n",
       " <tf.Variable 'dense_1/kernel:0' shape=(256, 256) dtype=float32, numpy=\n",
       " array([[ 0.00876832, -0.0225054 ,  0.12847385, ..., -0.04984407,\n",
       "          0.06686877, -0.09314334],\n",
       "        [ 0.12783732, -0.08967711, -0.07513743, ..., -0.01538674,\n",
       "         -0.1612809 , -0.13914804],\n",
       "        [-0.03734451, -0.17658377, -0.05800889, ...,  0.01645192,\n",
       "          0.09132797, -0.11082552],\n",
       "        ...,\n",
       "        [ 0.00070547,  0.06295619, -0.01284417, ...,  0.07480676,\n",
       "          0.00189365, -0.0448655 ],\n",
       "        [ 0.02916585, -0.0669542 ,  0.04126893, ..., -0.11057509,\n",
       "          0.13459517, -0.0921976 ],\n",
       "        [ 0.01171881, -0.14320749, -0.1393204 , ...,  0.03351262,\n",
       "         -0.02253026, -0.09276298]], dtype=float32)>,\n",
       " <tf.Variable 'dense_1/bias:0' shape=(256,) dtype=float32, numpy=\n",
       " array([-0.05673756, -0.02691502, -0.0170518 , -0.03819564, -0.00286599,\n",
       "        -0.04169782, -0.05486009, -0.03191013, -0.05741723, -0.04072145,\n",
       "        -0.04913826, -0.03458591,  0.0074245 , -0.03912058, -0.01710488,\n",
       "        -0.00859169,  0.00897662, -0.0253861 , -0.01869826, -0.02549985,\n",
       "        -0.05472627, -0.05111364, -0.03595694,  0.0043235 , -0.0190334 ,\n",
       "         0.01560944, -0.03636926, -0.01458638, -0.01635994, -0.02838653,\n",
       "        -0.02498704, -0.03738479, -0.04579081, -0.01226693, -0.0640948 ,\n",
       "        -0.01445151, -0.03199788, -0.04377031, -0.04744089, -0.04830552,\n",
       "        -0.02211184, -0.02463984, -0.03909995, -0.03177872, -0.02892109,\n",
       "        -0.01655419, -0.03733556, -0.01374051, -0.0286833 , -0.03528316,\n",
       "        -0.05971289, -0.00742375, -0.03754054, -0.02704611, -0.00437112,\n",
       "        -0.01344268, -0.03576487, -0.04098649, -0.02226069, -0.01971597,\n",
       "        -0.03794691, -0.02673303, -0.042438  , -0.02206706, -0.03692064,\n",
       "        -0.04379555, -0.04705609, -0.06223381, -0.05032098, -0.01326629,\n",
       "        -0.02838453, -0.0340619 , -0.01664923, -0.02503822, -0.04140875,\n",
       "        -0.00830238, -0.02875042, -0.03509124, -0.03484607, -0.01059788,\n",
       "        -0.01225797, -0.05046265, -0.00672816, -0.01202339,  0.01068351,\n",
       "        -0.02136346, -0.0147925 , -0.03876215, -0.03625531, -0.0023996 ,\n",
       "        -0.02238131, -0.01562917, -0.02415214, -0.01662476, -0.02268947,\n",
       "        -0.01781323, -0.01165668, -0.0279523 , -0.02059476, -0.05118325,\n",
       "        -0.03526655, -0.06095626, -0.02454582, -0.05706113, -0.0172148 ,\n",
       "        -0.04301449, -0.06459025, -0.01330848, -0.01546095, -0.04626284,\n",
       "        -0.02486457,  0.0127852 , -0.02867811, -0.01803911, -0.04425326,\n",
       "        -0.06797353, -0.00802931, -0.04793707, -0.04995922, -0.02110195,\n",
       "        -0.04689315, -0.04109089, -0.03665962, -0.05840123, -0.03604561,\n",
       "        -0.04224323, -0.02238498, -0.04790055, -0.02109027, -0.01912426,\n",
       "        -0.00140426, -0.01082933, -0.03181981, -0.04890898, -0.02837679,\n",
       "        -0.0191132 , -0.03928002, -0.01219473, -0.02105886, -0.0397387 ,\n",
       "        -0.02808224, -0.05828079, -0.04446204, -0.01590908, -0.06739838,\n",
       "        -0.03659032, -0.03848569, -0.01790134, -0.03157291, -0.01589409,\n",
       "        -0.03353693, -0.04463579, -0.01143245, -0.01607437, -0.02162156,\n",
       "        -0.05984417, -0.04083131, -0.04133609, -0.02725214, -0.03809399,\n",
       "        -0.00405594, -0.03588139, -0.00845283, -0.01167096, -0.03716401,\n",
       "        -0.04004135, -0.01999594, -0.02869199, -0.01394215, -0.00649242,\n",
       "        -0.07067273, -0.04879689, -0.05397429, -0.02356805, -0.04589113,\n",
       "        -0.04425266, -0.02287395, -0.04530773, -0.04072934, -0.0053867 ,\n",
       "        -0.03497945, -0.02033331, -0.03759575, -0.03471189, -0.04412355,\n",
       "        -0.04262307, -0.00620173, -0.02283327, -0.03437269, -0.02708412,\n",
       "        -0.03355537, -0.02143935, -0.06226893, -0.03920486, -0.01813833,\n",
       "        -0.0645122 ,  0.00569039, -0.00121217, -0.04553852, -0.036928  ,\n",
       "        -0.04460528, -0.03165766, -0.0276681 , -0.0170267 , -0.0547749 ,\n",
       "        -0.02739309, -0.02983852, -0.04944089, -0.04515339, -0.00858251,\n",
       "        -0.03616262, -0.01526175, -0.03374057, -0.01140636, -0.02400477,\n",
       "        -0.03331306, -0.05168091, -0.04725461, -0.03099875, -0.0133834 ,\n",
       "        -0.0271984 , -0.04222121, -0.03797026, -0.05556935, -0.02384028,\n",
       "        -0.02254087, -0.03045852, -0.04801898, -0.04813295, -0.03978575,\n",
       "        -0.04417392, -0.00898701, -0.0382798 ,  0.02155837,  0.00775675,\n",
       "        -0.04864651, -0.01451857, -0.03285966, -0.05043982, -0.0318714 ,\n",
       "        -0.01104738, -0.05138273, -0.04343954, -0.02298237, -0.02404855,\n",
       "        -0.03282641, -0.03419001, -0.02469118, -0.00076348, -0.02861737,\n",
       "        -0.02306947, -0.0311951 , -0.02187616, -0.05126411, -0.03258037,\n",
       "        -0.02681127], dtype=float32)>,\n",
       " <tf.Variable 'dense_2/kernel:0' shape=(256, 10) dtype=float32, numpy=\n",
       " array([[ 0.09573291, -0.08483384,  0.13161162, ...,  0.07909732,\n",
       "         -0.07653725, -0.00433524],\n",
       "        [ 0.01539328,  0.09419636,  0.04150574, ..., -0.10609779,\n",
       "         -0.0310053 ,  0.01259115],\n",
       "        [ 0.04819234,  0.14796717, -0.05462927, ...,  0.00201036,\n",
       "          0.02582703,  0.02598198],\n",
       "        ...,\n",
       "        [-0.08816775,  0.1291405 ,  0.07641941, ..., -0.02032861,\n",
       "          0.0641918 , -0.0197832 ],\n",
       "        [-0.01691739, -0.04415347,  0.00427163, ..., -0.08357403,\n",
       "         -0.06258747, -0.09128411],\n",
       "        [-0.03357965, -0.03373582, -0.03420746, ...,  0.00897592,\n",
       "         -0.07787499, -0.04180011]], dtype=float32)>,\n",
       " <tf.Variable 'dense_2/bias:0' shape=(10,) dtype=float32, numpy=\n",
       " array([-0.03726998, -0.01356535, -0.00831557, -0.01287498,  0.02598689,\n",
       "         0.01094066, -0.02124565,  0.00655056,  0.02085979,  0.01680298],\n",
       "       dtype=float32)>]"
      ]
     },
     "execution_count": 25,
     "metadata": {},
     "output_type": "execute_result"
    }
   ],
   "source": [
    "# model.trainable_variables"
   ]
  },
  {
   "cell_type": "code",
   "execution_count": null,
   "id": "e61b7b27-3abe-42ee-b456-278b24f294b6",
   "metadata": {},
   "outputs": [],
   "source": []
  },
  {
   "cell_type": "code",
   "execution_count": 97,
   "id": "12aa3fbf-886e-4ba6-a3d2-a3230d0bbbd2",
   "metadata": {},
   "outputs": [
    {
     "data": {
      "text/plain": [
       "<tf.Tensor: shape=(1, 10), dtype=int64, numpy=array([[450, 460, 470, 480, 490, 500, 510, 520, 530, 540]])>"
      ]
     },
     "execution_count": 97,
     "metadata": {},
     "output_type": "execute_result"
    }
   ],
   "source": [
    "# tf.reduce_sum(np.arange(100).reshape((10,10)), axis=0, keepdims=True)\n",
    "\n"
   ]
  },
  {
   "cell_type": "code",
   "execution_count": 13,
   "id": "991b1111",
   "metadata": {},
   "outputs": [],
   "source": [
    "#     To estimate the histogram, we first remove outliers in the\n",
    "# activations if the samples are outside the range [μ−3σ; μ+3σ]\n",
    "\n",
    "def calculate_entropy_range(variables, scale = 3):\n",
    "    std = tf.math.reduce_variance(variables)**0.5\n",
    "    if std==0.0:\n",
    "        std = 1.0\n",
    "    mean = tf.math.reduce_mean(variables)\n",
    "    return mean - std*scale, mean + std*scale\n",
    "    \n",
    "bins = np.arange(256, dtype=np.float32)\n",
    "bins = tf.convert_to_tensor(bins)\n",
    "bins = tf.reshape(bins, (1,-1))\n",
    "\n",
    "def calculate_weights(variables, min_h, max_h):\n",
    "#     variables (numpy.ndarray): The variables to calculate the weights for.\n",
    "#         min_h (float): The minimum value of the histogram bins.\n",
    "#         max_h (float): The maximum value of the histogram bins.\n",
    "# xk: tf.Tensor(203.77649, shape=(), dtype=float32),tj: 0.0,tj1: 0.0,tj2: 1.0,delta: 1.0\n",
    "# xk: tf.Tensor(203.77649, shape=(), dtype=float32),tj: 1.0,tj1: 0.0,tj2: 2.0,delta: 2.0\n",
    "# xk: tf.Tensor(203.77649, shape=(), dtype=float32),tj: 2.0,tj1: 1.0,tj2: 3.0,delta: 2.0\n",
    "# xk: tf.Tensor(203.77649, shape=(), dtype=float32),tj: 3.0,tj1: 2.0,tj2: 4.0,delta: 2.0\n",
    "    nbins = 256\n",
    "    deltas = np.zeros((nbins,variables.shape[0])) # j,k\n",
    "    t = np.linspace(0, nbins - 1, nbins) # Return evenly spaced numbers over a specified interval.\n",
    "#     print(variables)\n",
    "# change for loop to array way , operation\n",
    "# matrix way in vector way\n",
    "\n",
    "    for j in range(nbins):\n",
    "        for k in range(len(variables[j])):\n",
    "            xk = variables[j][k] # weight\n",
    "            tj = t[j] # bins t[j] and j are same\n",
    "            tj1 = t[max(0, j-1)]\n",
    "            tj2 = t[min(nbins-1, j+1)]\n",
    "#                 print('tj ' + str(tj) + ',tj1 ' + str(tj1) + ',tj2' + str(tj2) + ',delta' + str(tj2 - tj1))\n",
    "            w = weight(xk, tj, tj1, tj2, nbins)\n",
    "            deltas[j,k] += w\n",
    "#                 index = tf.constant([i + j*nbins])  # Create index tensor\n",
    "#                 update = tf.constant(w)   # Create update tensor\n",
    "#                 weights = tf.tensor_scatter_nd_add(weights, index, update)  # Update weights tensor\n",
    "\n",
    "    return deltas\n",
    "\n",
    "def weight(xk, tj, tj1, tj2, nbins):\n",
    "#         xk (float): The input value to calculate the weight for.\n",
    "#         tj (float): The current node.\n",
    "#         tj1 (float): The previous node.\n",
    "#         tj2 (float): The next node.\n",
    "#    if xk ∈ [tj−1; tj ] then (xk − tj−1)/Δ\n",
    "#     if xk ∈ [tj ; tj+1] then (tj+1 − xk)/Δ\n",
    "#     otherwise return 0\n",
    "#     xk = tf.cast(xk, tf.double)\n",
    "#     tj = tf.cast(tj, tf.double)\n",
    "#     tj1 = tf.cast(tj1, tf.double)\n",
    "#     tj2 = tf.cast(tj2, tf.double)\n",
    "    delta = 1.0 / nbins\n",
    "#     print('xk: ' + str(xk) + ',tj: ' + str(tj) + ',tj1: ' + str(tj1) + ',tj2: ' + str(tj2) + ',delta: ' + str(tj2 - tj1))\n",
    "    if tj1 <= xk and xk <= tj:\n",
    "#         print('1: ' + str((xk - tj1) / delta))\n",
    "        return (xk - tj1) / delta\n",
    "    elif tj <= xk and xk <= tj2:\n",
    "#         print('2: ' + str((tj2 - xk) / delta))\n",
    "        return (tj2 - xk) / delta\n",
    "    else:\n",
    "        return 0.0\n",
    "\n",
    "def calculate_histogram(variables, min_h, max_h):\n",
    "    flat_vars = tf.reshape(variables, (-1,1))\n",
    "    scaled_vars = (flat_vars-min_h)*255/(max_h-min_h)\n",
    "    diff = calculate_weights(scaled_vars, min_h, max_h)\n",
    "    diff = tf.reshape(diff, (-1,1))\n",
    "    diff = tf.cast(diff, tf.float32)\n",
    "    diff = bins - diff\n",
    "#     print(diff) # shape = (256,) -> (65536, 1) or (16777216, 1)\n",
    "#     print(np.count_nonzero(diff))\n",
    "# (16777216, 1), dtype=float32)\n",
    "# 512\n",
    "#     diff = bins - scaled_vars\n",
    "#     print(bins) # shape = (1,256)\n",
    "#     print(scaled_vars) # shape=(65536, 1)\n",
    "#     print(bins - scaled_vars) # shape=(65536, 256)\n",
    "#     print(bins - diff) # shape=(1, 256)\n",
    "    p_ = tf.exp(-(diff**2))\n",
    "    p = p_ / (tf.reduce_sum(p_, axis=1, keepdims=True)+1e-10)\n",
    "    hist = tf.reduce_sum(p, axis=0)\n",
    "    return hist\n",
    "\n",
    "def calculate_entropy(variables, eps=1e-10):\n",
    "#     print(variables)\n",
    "#     variables shape (784, 256)\n",
    "#     print('gg')\n",
    "    # TODO implement\n",
    "    # here you need to also output the range of the compressed data (minimum, maximum)\n",
    "#     return 0\n",
    "    # Calculate the histogram of the variables\n",
    "#     hist, bin_edges = np.histogram(variables, bins='auto')\n",
    "    \n",
    "#     # Convert the histogram to probabilities\n",
    "#     probs = hist / np.sum(hist)\n",
    "    \n",
    "#     # Calculate the entropy\n",
    "#     entropy = -np.sum(probs * np.log2(probs))\n",
    "    \n",
    "#     # Calculate the range of the compressed data\n",
    "#     compressed_range = (bin_edges[0], bin_edges[-1])\n",
    "# #     print(entropy, '      :::: ', compressed_range)\n",
    "    \n",
    "#     return entropy, compressed_range\n",
    "    flat_vars = tf.reshape(variables, (-1,1))\n",
    "    min_h, max_h = calculate_entropy_range(variables)\n",
    "    \n",
    "    hist = calculate_histogram(flat_vars, min_h, max_h)\n",
    "    #hist = tf.histogram_fixed_width(flat_vars, [min_h,max_h])\n",
    "    \n",
    "    probs = hist / tf.reduce_sum(hist)\n",
    "#     probs[probs == 0] = 1  # replace zeros with ones\n",
    "    entropy = -tf.reduce_sum(probs * tf.experimental.numpy.log2(probs+eps))\n",
    "#     print(entropy,':: ', np.min(flat_vars),':: ', np.max(flat_vars),':: ', bins[0],':: ',bins[1])\n",
    "    return entropy, (min_h, max_h)\n",
    "\n",
    "class CompressibleNN(keras.Model):\n",
    "    def __init__(self, net_model):\n",
    "        super(CompressibleNN, self).__init__()\n",
    "        self.net_model = net_model\n",
    "        self.CE_loss = keras.losses.SparseCategoricalCrossentropy(from_logits=True)\n",
    "\n",
    "    def call(self, inputs):\n",
    "        return self.net_model(inputs)\n",
    "    \n",
    "    def entropy_loss(self, inputs):\n",
    "        # TODO implemment the entropy calculation here for each layer parameters\n",
    "        # for each layer: calculate a histogram and from then calculate the entropy\n",
    "        # return a sum of all entropies\n",
    "        \n",
    "        entropy = 0\n",
    "#         for l in self.net_model.layers:\n",
    "#             #TODO: if layer is dense:\n",
    "#             for v in l.trainable_variables:\n",
    "#                 # here you have a set of variable for which you can calculate the histogram and entropy\n",
    "#                 entropy += calculate_entropy(v)\n",
    "#         return 0\n",
    "        for l in self.net_model.layers:\n",
    "            if isinstance(l, keras.layers.Dense):\n",
    "                for v in l.trainable_variables:\n",
    "                    v_entropy, v_range = calculate_entropy(v)\n",
    "                    entropy += v_entropy\n",
    "\n",
    "        return entropy\n",
    "\n",
    "    \n",
    "    \n",
    "    def train_step(self, input):\n",
    "        images = input[0]\n",
    "        labels = input[1]\n",
    "\n",
    "        with tf.GradientTape() as tape:\n",
    "            output = self.net_model(images)\n",
    "            loss =  self.entropy_loss(images)\n",
    "\n",
    "        # Get the gradients w.r.t the loss\n",
    "        gradient = tape.gradient(loss, self.net_model.trainable_variables)\n",
    "        # Update the weights using the generator optimizer\n",
    "        self.optimizer.apply_gradients(\n",
    "            zip(gradient, self.net_model.trainable_variables)\n",
    "        )\n",
    "        return {\"loss\": loss}\n",
    "    \n",
    "model = get_model()\n",
    "compNN = CompressibleNN(model)\n",
    "optimizer = tf.optimizers.Adam(learning_rate=1e-3, beta_1=0.9)\n",
    "compNN.compile(optimizer, loss=keras.losses.SparseCategoricalCrossentropy(from_logits=True))"
   ]
  },
  {
   "cell_type": "code",
   "execution_count": 14,
   "id": "c2bfe0e3-a0f5-4bff-8b28-dfbbe33ddbea",
   "metadata": {},
   "outputs": [],
   "source": [
    "min_h, max_h = calculate_entropy_range(model.layers[3].variables[0])\n",
    "our_h=calculate_histogram(model.layers[3].variables[0], min_h, max_h)\n",
    "# 2023-05-10 05:12:17.009000: W tensorflow/tsl/framework/cpu_allocator_impl.cc:83] Allocation of 134217728 exceeds 10% of free system memory.\n",
    "# 2023-05-10 05:12:17.467376: W tensorflow/tsl/framework/cpu_allocator_impl.cc:83] Allocation of 67108864 exceeds 10% of free system memory.\n",
    "# 2023-05-10 05:12:17.512574: W tensorflow/tsl/framework/cpu_allocator_impl.cc:83] Allocation of 17179869184 exceeds 10% of free system memory.\n",
    "\n",
    "# xk: tf.Tensor(203.77649, shape=(), dtype=float32),tj: 0.0,tj1: 0.0,tj2: 1.0,delta: 1.0\n",
    "# xk: tf.Tensor(203.77649, shape=(), dtype=float32),tj: 1.0,tj1: 0.0,tj2: 2.0,delta: 2.0\n",
    "# xk: tf.Tensor(203.77649, shape=(), dtype=float32),tj: 2.0,tj1: 1.0,tj2: 3.0,delta: 2.0\n",
    "# xk: tf.Tensor(203.77649, shape=(), dtype=float32),tj: 3.0,tj1: 2.0,tj2: 4.0,delta: 2.0\n",
    "# xk: tf.Tensor(203.77649, shape=(), dtype=float32),tj: 4.0,tj1: 3.0,tj2: 5.0,delta: 2.0\n",
    "# xk: tf.Tensor(203.77649, shape=(), dtype=float32),tj: 5.0,tj1: 4.0,tj2: 6.0,delta: 2.0\n",
    "# xk: tf.Tensor(203.77649, shape=(), dtype=float32),tj: 6.0,tj1: 5.0,tj2: 7.0,delta: 2.0\n",
    "# xk: tf.Tensor(203.77649, shape=(), dtype=float32),tj: 7.0,tj1: 6.0,tj2: 8.0,delta: 2.0"
   ]
  },
  {
   "cell_type": "code",
   "execution_count": 10,
   "id": "83ebe346-e36f-40c4-8515-8f05d1bd9a2b",
   "metadata": {},
   "outputs": [],
   "source": [
    "np_h=np.histogram(model.layers[3].variables[0], bins=256) # shape 256 * 257"
   ]
  },
  {
   "cell_type": "code",
   "execution_count": null,
   "id": "4ec97e33-b3fe-4a50-a18d-1dc7d63a68af",
   "metadata": {},
   "outputs": [],
   "source": [
    "min_h, max_h = calculate_entropy_range(model.layers[3].variables[0])\n",
    "our_h=calculate_histogram(model.layers[3].variables[0], min_h, max_h)\n"
   ]
  },
  {
   "cell_type": "code",
   "execution_count": null,
   "id": "e2791dc2-418e-466e-a405-567859b94a11",
   "metadata": {},
   "outputs": [],
   "source": [
    "our_h"
   ]
  },
  {
   "cell_type": "code",
   "execution_count": 7,
   "id": "b4049c27-f0bc-431f-8e5f-1fb4bf36e3bb",
   "metadata": {},
   "outputs": [
    {
     "data": {
      "text/plain": [
       "[<matplotlib.lines.Line2D at 0xffff0274d180>]"
      ]
     },
     "execution_count": 7,
     "metadata": {},
     "output_type": "execute_result"
    },
    {
     "data": {
      "image/png": "[encoded data removed]",
      "text/plain": [
       "<Figure size 640x480 with 1 Axes>"
      ]
     },
     "metadata": {},
     "output_type": "display_data"
    }
   ],
   "source": [
    "from matplotlib import pyplot as plt\n",
    "plt.plot(np_h[0])\n",
    "plt.plot(our_h)"
   ]
  },
  {
   "cell_type": "code",
   "execution_count": 15,
   "id": "48f5346e-51b8-458e-8072-5cc8f559c69e",
   "metadata": {},
   "outputs": [
    {
     "data": {
      "text/plain": [
       "[<matplotlib.lines.Line2D at 0xffff25b1efb0>]"
      ]
     },
     "execution_count": 15,
     "metadata": {},
     "output_type": "execute_result"
    },
    {
     "data": {
      "image/png": "[encoded data removed]",
      "text/plain": [
       "<Figure size 640x480 with 1 Axes>"
      ]
     },
     "metadata": {},
     "output_type": "display_data"
    }
   ],
   "source": [
    "plt.plot(np_h[0])\n",
    "plt.plot(our_h)"
   ]
  },
  {
   "cell_type": "code",
   "execution_count": 16,
   "id": "4fd59b8e",
   "metadata": {},
   "outputs": [
    {
     "ename": "IndexError",
     "evalue": "index 10 is out of bounds for axis 0 with size 10",
     "output_type": "error",
     "traceback": [
      "\u001b[0;31m---------------------------------------------------------------------------\u001b[0m",
      "\u001b[0;31mIndexError\u001b[0m                                Traceback (most recent call last)",
      "Cell \u001b[0;32mIn[16], line 4\u001b[0m\n\u001b[1;32m      2\u001b[0m tf\u001b[38;5;241m.\u001b[39mconfig\u001b[38;5;241m.\u001b[39mrun_functions_eagerly(\u001b[38;5;28;01mTrue\u001b[39;00m)\n\u001b[1;32m      3\u001b[0m \u001b[38;5;66;03m# loss needs to be decreased during training\u001b[39;00m\n\u001b[0;32m----> 4\u001b[0m \u001b[43mcompNN\u001b[49m\u001b[38;5;241;43m.\u001b[39;49m\u001b[43mfit\u001b[49m\u001b[43m(\u001b[49m\u001b[43mx\u001b[49m\u001b[38;5;241;43m=\u001b[39;49m\u001b[43mtrain_set\u001b[49m\u001b[43m[\u001b[49m\u001b[38;5;241;43m0\u001b[39;49m\u001b[43m]\u001b[49m\u001b[43m,\u001b[49m\u001b[43m \u001b[49m\u001b[43my\u001b[49m\u001b[38;5;241;43m=\u001b[39;49m\u001b[43mtrain_set\u001b[49m\u001b[43m[\u001b[49m\u001b[38;5;241;43m1\u001b[39;49m\u001b[43m]\u001b[49m\u001b[43m,\u001b[49m\u001b[43m \u001b[49m\u001b[43mepochs\u001b[49m\u001b[38;5;241;43m=\u001b[39;49m\u001b[38;5;241;43m1\u001b[39;49m\u001b[43m,\u001b[49m\u001b[43m \u001b[49m\u001b[43mbatch_size\u001b[49m\u001b[38;5;241;43m=\u001b[39;49m\u001b[38;5;241;43m32\u001b[39;49m\u001b[43m)\u001b[49m\n",
      "File \u001b[0;32m/usr/local/lib/python3.10/dist-packages/keras/utils/traceback_utils.py:70\u001b[0m, in \u001b[0;36mfilter_traceback.<locals>.error_handler\u001b[0;34m(*args, **kwargs)\u001b[0m\n\u001b[1;32m     67\u001b[0m     filtered_tb \u001b[38;5;241m=\u001b[39m _process_traceback_frames(e\u001b[38;5;241m.\u001b[39m__traceback__)\n\u001b[1;32m     68\u001b[0m     \u001b[38;5;66;03m# To get the full stack trace, call:\u001b[39;00m\n\u001b[1;32m     69\u001b[0m     \u001b[38;5;66;03m# `tf.debugging.disable_traceback_filtering()`\u001b[39;00m\n\u001b[0;32m---> 70\u001b[0m     \u001b[38;5;28;01mraise\u001b[39;00m e\u001b[38;5;241m.\u001b[39mwith_traceback(filtered_tb) \u001b[38;5;28;01mfrom\u001b[39;00m \u001b[38;5;28;01mNone\u001b[39;00m\n\u001b[1;32m     71\u001b[0m \u001b[38;5;28;01mfinally\u001b[39;00m:\n\u001b[1;32m     72\u001b[0m     \u001b[38;5;28;01mdel\u001b[39;00m filtered_tb\n",
      "Cell \u001b[0;32mIn[13], line 151\u001b[0m, in \u001b[0;36mCompressibleNN.train_step\u001b[0;34m(self, input)\u001b[0m\n\u001b[1;32m    149\u001b[0m \u001b[38;5;28;01mwith\u001b[39;00m tf\u001b[38;5;241m.\u001b[39mGradientTape() \u001b[38;5;28;01mas\u001b[39;00m tape:\n\u001b[1;32m    150\u001b[0m     output \u001b[38;5;241m=\u001b[39m \u001b[38;5;28mself\u001b[39m\u001b[38;5;241m.\u001b[39mnet_model(images)\n\u001b[0;32m--> 151\u001b[0m     loss \u001b[38;5;241m=\u001b[39m  \u001b[38;5;28;43mself\u001b[39;49m\u001b[38;5;241;43m.\u001b[39;49m\u001b[43mentropy_loss\u001b[49m\u001b[43m(\u001b[49m\u001b[43mimages\u001b[49m\u001b[43m)\u001b[49m\n\u001b[1;32m    153\u001b[0m \u001b[38;5;66;03m# Get the gradients w.r.t the loss\u001b[39;00m\n\u001b[1;32m    154\u001b[0m gradient \u001b[38;5;241m=\u001b[39m tape\u001b[38;5;241m.\u001b[39mgradient(loss, \u001b[38;5;28mself\u001b[39m\u001b[38;5;241m.\u001b[39mnet_model\u001b[38;5;241m.\u001b[39mtrainable_variables)\n",
      "Cell \u001b[0;32mIn[13], line 138\u001b[0m, in \u001b[0;36mCompressibleNN.entropy_loss\u001b[0;34m(self, inputs)\u001b[0m\n\u001b[1;32m    136\u001b[0m     \u001b[38;5;28;01mif\u001b[39;00m \u001b[38;5;28misinstance\u001b[39m(l, keras\u001b[38;5;241m.\u001b[39mlayers\u001b[38;5;241m.\u001b[39mDense):\n\u001b[1;32m    137\u001b[0m         \u001b[38;5;28;01mfor\u001b[39;00m v \u001b[38;5;129;01min\u001b[39;00m l\u001b[38;5;241m.\u001b[39mtrainable_variables:\n\u001b[0;32m--> 138\u001b[0m             v_entropy, v_range \u001b[38;5;241m=\u001b[39m \u001b[43mcalculate_entropy\u001b[49m\u001b[43m(\u001b[49m\u001b[43mv\u001b[49m\u001b[43m)\u001b[49m\n\u001b[1;32m    139\u001b[0m             entropy \u001b[38;5;241m+\u001b[39m\u001b[38;5;241m=\u001b[39m v_entropy\n\u001b[1;32m    141\u001b[0m \u001b[38;5;28;01mreturn\u001b[39;00m entropy\n",
      "Cell \u001b[0;32mIn[13], line 105\u001b[0m, in \u001b[0;36mcalculate_entropy\u001b[0;34m(variables, eps)\u001b[0m\n\u001b[1;32m    102\u001b[0m flat_vars \u001b[38;5;241m=\u001b[39m tf\u001b[38;5;241m.\u001b[39mreshape(variables, (\u001b[38;5;241m-\u001b[39m\u001b[38;5;241m1\u001b[39m,\u001b[38;5;241m1\u001b[39m))\n\u001b[1;32m    103\u001b[0m min_h, max_h \u001b[38;5;241m=\u001b[39m calculate_entropy_range(variables)\n\u001b[0;32m--> 105\u001b[0m hist \u001b[38;5;241m=\u001b[39m \u001b[43mcalculate_histogram\u001b[49m\u001b[43m(\u001b[49m\u001b[43mflat_vars\u001b[49m\u001b[43m,\u001b[49m\u001b[43m \u001b[49m\u001b[43mmin_h\u001b[49m\u001b[43m,\u001b[49m\u001b[43m \u001b[49m\u001b[43mmax_h\u001b[49m\u001b[43m)\u001b[49m\n\u001b[1;32m    106\u001b[0m \u001b[38;5;66;03m#hist = tf.histogram_fixed_width(flat_vars, [min_h,max_h])\u001b[39;00m\n\u001b[1;32m    108\u001b[0m probs \u001b[38;5;241m=\u001b[39m hist \u001b[38;5;241m/\u001b[39m tf\u001b[38;5;241m.\u001b[39mreduce_sum(hist)\n",
      "Cell \u001b[0;32mIn[13], line 63\u001b[0m, in \u001b[0;36mcalculate_histogram\u001b[0;34m(variables, min_h, max_h)\u001b[0m\n\u001b[1;32m     61\u001b[0m flat_vars \u001b[38;5;241m=\u001b[39m tf\u001b[38;5;241m.\u001b[39mreshape(variables, (\u001b[38;5;241m-\u001b[39m\u001b[38;5;241m1\u001b[39m,\u001b[38;5;241m1\u001b[39m))\n\u001b[1;32m     62\u001b[0m scaled_vars \u001b[38;5;241m=\u001b[39m (flat_vars\u001b[38;5;241m-\u001b[39mmin_h)\u001b[38;5;241m*\u001b[39m\u001b[38;5;241m255\u001b[39m\u001b[38;5;241m/\u001b[39m(max_h\u001b[38;5;241m-\u001b[39mmin_h)\n\u001b[0;32m---> 63\u001b[0m diff \u001b[38;5;241m=\u001b[39m \u001b[43mcalculate_weights\u001b[49m\u001b[43m(\u001b[49m\u001b[43mscaled_vars\u001b[49m\u001b[43m,\u001b[49m\u001b[43m \u001b[49m\u001b[43mmin_h\u001b[49m\u001b[43m,\u001b[49m\u001b[43m \u001b[49m\u001b[43mmax_h\u001b[49m\u001b[43m)\u001b[49m\n\u001b[1;32m     64\u001b[0m diff \u001b[38;5;241m=\u001b[39m tf\u001b[38;5;241m.\u001b[39mreshape(diff, (\u001b[38;5;241m-\u001b[39m\u001b[38;5;241m1\u001b[39m,\u001b[38;5;241m1\u001b[39m))\n\u001b[1;32m     65\u001b[0m diff \u001b[38;5;241m=\u001b[39m tf\u001b[38;5;241m.\u001b[39mcast(diff, tf\u001b[38;5;241m.\u001b[39mfloat32)\n",
      "Cell \u001b[0;32mIn[13], line 30\u001b[0m, in \u001b[0;36mcalculate_weights\u001b[0;34m(variables, min_h, max_h)\u001b[0m\n\u001b[1;32m     28\u001b[0m \u001b[38;5;66;03m#                 print('tj ' + str(tj) + ',tj1 ' + str(tj1) + ',tj2' + str(tj2) + ',delta' + str(tj2 - tj1))\u001b[39;00m\n\u001b[1;32m     29\u001b[0m                 w \u001b[38;5;241m=\u001b[39m weight(xk, tj, tj1, tj2)\n\u001b[0;32m---> 30\u001b[0m                 weights[i] \u001b[38;5;241m+\u001b[39m\u001b[38;5;241m=\u001b[39m w\n\u001b[1;32m     31\u001b[0m \u001b[38;5;66;03m#                 index = tf.constant([i + j*nbins])  # Create index tensor\u001b[39;00m\n\u001b[1;32m     32\u001b[0m \u001b[38;5;66;03m#                 update = tf.constant(w)   # Create update tensor\u001b[39;00m\n\u001b[1;32m     33\u001b[0m \u001b[38;5;66;03m#                 weights = tf.tensor_scatter_nd_add(weights, index, update)  # Update weights tensor\u001b[39;00m\n\u001b[1;32m     35\u001b[0m     weights \u001b[38;5;241m/\u001b[39m\u001b[38;5;241m=\u001b[39m delta\n",
      "\u001b[0;31mIndexError\u001b[0m: index 10 is out of bounds for axis 0 with size 10"
     ]
    }
   ],
   "source": [
    "# train the model\n",
    "tf.config.run_functions_eagerly(True)\n",
    "# loss needs to be decreased during training\n",
    "compNN.fit(x=train_set[0], y=train_set[1], epochs=1, batch_size=32)"
   ]
  },
  {
   "cell_type": "code",
   "execution_count": 53,
   "id": "22f9f5e6",
   "metadata": {},
   "outputs": [
    {
     "name": "stdout",
     "output_type": "stream",
     "text": [
      "test acc:  96.02000000000001\n"
     ]
    }
   ],
   "source": [
    "# test performance\n",
    "res = model(test_set[0])\n",
    "print(\"test acc: \", 100*(np.argmax(res, axis=1)==test_set[1]).mean())"
   ]
  },
  {
   "cell_type": "code",
   "execution_count": 56,
   "id": "ea567bd1-7137-49cd-9824-36e918ad0b07",
   "metadata": {},
   "outputs": [
    {
     "name": "stdout",
     "output_type": "stream",
     "text": [
      "test acc:  96.61\n"
     ]
    }
   ],
   "source": [
    "# test performance with entropy_loss\n",
    "res = model(test_set[0])\n",
    "print(\"test acc: \", 100*(np.argmax(res, axis=1)==test_set[1]).mean())"
   ]
  },
  {
   "cell_type": "code",
   "execution_count": null,
   "id": "8f4cfb0d-21e8-40bf-97ab-e23562acfdf4",
   "metadata": {},
   "outputs": [],
   "source": []
  }
 ],
 "metadata": {
  "kernelspec": {
   "display_name": "Python 3 (ipykernel)",
   "language": "python",
   "name": "python3"
  },
  "language_info": {
   "codemirror_mode": {
    "name": "ipython",
    "version": 3
   },
   "file_extension": ".py",
   "mimetype": "text/x-python",
   "name": "python",
   "nbconvert_exporter": "python",
   "pygments_lexer": "ipython3",
   "version": "3.10.10"
  }
 },
 "nbformat": 4,
 "nbformat_minor": 5
}
