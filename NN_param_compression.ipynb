{
 "cells": [
  {
   "cell_type": "code",
   "execution_count": 3,
   "id": "320ea7ac-9003-47c6-9388-7b8d45f63998",
   "metadata": {},
   "outputs": [
    {
     "name": "stdout",
     "output_type": "stream",
     "text": [
      "Collecting tensorflow==2.12.*\n",
      "  Downloading tensorflow-2.12.0-cp310-cp310-manylinux_2_17_aarch64.manylinux2014_aarch64.whl (1.9 kB)\n",
      "Collecting tensorflow-cpu-aws==2.12.0\n",
      "  Downloading tensorflow_cpu_aws-2.12.0-cp310-cp310-manylinux_2_17_aarch64.manylinux2014_aarch64.whl (241.6 MB)\n",
      "\u001b[2K     \u001b[90m━━━━━━━━━━━━━━━━━━━━━━━━━━━━━━━━━━━━━━━\u001b[0m \u001b[32m241.6/241.6 MB\u001b[0m \u001b[31m2.0 MB/s\u001b[0m eta \u001b[36m0:00:00\u001b[0m00:01\u001b[0m00:01\u001b[0m\n",
      "\u001b[?25hCollecting termcolor>=1.1.0\n",
      "  Downloading termcolor-2.3.0-py3-none-any.whl (6.9 kB)\n",
      "Collecting numpy<1.24,>=1.22\n",
      "  Downloading numpy-1.23.5-cp310-cp310-manylinux_2_17_aarch64.manylinux2014_aarch64.whl (13.9 MB)\n",
      "\u001b[2K     \u001b[90m━━━━━━━━━━━━━━━━━━━━━━━━━━━━━━━━━━━━━━━━\u001b[0m \u001b[32m13.9/13.9 MB\u001b[0m \u001b[31m10.5 MB/s\u001b[0m eta \u001b[36m0:00:00\u001b[0m00:01\u001b[0m00:01\u001b[0m\n",
      "\u001b[?25hCollecting grpcio<2.0,>=1.24.3\n",
      "  Downloading grpcio-1.54.0-cp310-cp310-manylinux_2_17_aarch64.whl (4.6 MB)\n",
      "\u001b[2K     \u001b[90m━━━━━━━━━━━━━━━━━━━━━━━━━━━━━━━━━━━━━━━━\u001b[0m \u001b[32m4.6/4.6 MB\u001b[0m \u001b[31m9.8 MB/s\u001b[0m eta \u001b[36m0:00:00\u001b[0m:00:01\u001b[0m00:01\u001b[0m\n",
      "\u001b[?25hCollecting astunparse>=1.6.0\n",
      "  Downloading astunparse-1.6.3-py2.py3-none-any.whl (12 kB)\n",
      "Collecting libclang>=13.0.0\n",
      "  Downloading libclang-16.0.0-py2.py3-none-manylinux2014_aarch64.whl (20.8 MB)\n",
      "\u001b[2K     \u001b[90m━━━━━━━━━━━━━━━━━━━━━━━━━━━━━━━━━━━━━━━━\u001b[0m \u001b[32m20.8/20.8 MB\u001b[0m \u001b[31m9.0 MB/s\u001b[0m eta \u001b[36m0:00:00\u001b[0m:00:01\u001b[0m00:01\u001b[0m\n",
      "\u001b[?25hCollecting absl-py>=1.0.0\n",
      "  Downloading absl_py-1.4.0-py3-none-any.whl (126 kB)\n",
      "\u001b[2K     \u001b[90m━━━━━━━━━━━━━━━━━━━━━━━━━━━━━━━━━━━━━━━\u001b[0m \u001b[32m126.5/126.5 kB\u001b[0m \u001b[31m9.6 MB/s\u001b[0m eta \u001b[36m0:00:00\u001b[0m\n",
      "\u001b[?25hCollecting opt-einsum>=2.3.2\n",
      "  Downloading opt_einsum-3.3.0-py3-none-any.whl (65 kB)\n",
      "\u001b[2K     \u001b[90m━━━━━━━━━━━━━━━━━━━━━━━━━━━━━━━━━━━━━━━━\u001b[0m \u001b[32m65.5/65.5 kB\u001b[0m \u001b[31m8.3 MB/s\u001b[0m eta \u001b[36m0:00:00\u001b[0m\n",
      "\u001b[?25hCollecting tensorboard<2.13,>=2.12\n",
      "  Downloading tensorboard-2.12.2-py3-none-any.whl (5.6 MB)\n",
      "\u001b[2K     \u001b[90m━━━━━━━━━━━━━━━━━━━━━━━━━━━━━━━━━━━━━━━━\u001b[0m \u001b[32m5.6/5.6 MB\u001b[0m \u001b[31m11.1 MB/s\u001b[0m eta \u001b[36m0:00:00\u001b[0m00:01\u001b[0m00:01\u001b[0m\n",
      "\u001b[?25hRequirement already satisfied: typing-extensions>=3.6.6 in /usr/local/lib/python3.10/dist-packages (from tensorflow-cpu-aws==2.12.0->tensorflow==2.12.*) (4.5.0)\n",
      "Collecting flatbuffers>=2.0\n",
      "  Downloading flatbuffers-23.3.3-py2.py3-none-any.whl (26 kB)\n",
      "Collecting google-pasta>=0.1.1\n",
      "  Downloading google_pasta-0.2.0-py3-none-any.whl (57 kB)\n",
      "\u001b[2K     \u001b[90m━━━━━━━━━━━━━━━━━━━━━━━━━━━━━━━━━━━━━━━━\u001b[0m \u001b[32m57.5/57.5 kB\u001b[0m \u001b[31m12.1 MB/s\u001b[0m eta \u001b[36m0:00:00\u001b[0m\n",
      "\u001b[?25hCollecting gast<=0.4.0,>=0.2.1\n",
      "  Downloading gast-0.4.0-py3-none-any.whl (9.8 kB)\n",
      "Collecting tensorflow-estimator<2.13,>=2.12.0\n",
      "  Downloading tensorflow_estimator-2.12.0-py2.py3-none-any.whl (440 kB)\n",
      "\u001b[2K     \u001b[90m━━━━━━━━━━━━━━━━━━━━━━━━━━━━━━━━━━━━━━\u001b[0m \u001b[32m440.7/440.7 kB\u001b[0m \u001b[31m11.5 MB/s\u001b[0m eta \u001b[36m0:00:00\u001b[0m00:01\u001b[0m\n",
      "\u001b[?25hRequirement already satisfied: six>=1.12.0 in /usr/local/lib/python3.10/dist-packages (from tensorflow-cpu-aws==2.12.0->tensorflow==2.12.*) (1.16.0)\n",
      "Requirement already satisfied: setuptools in /usr/local/lib/python3.10/dist-packages (from tensorflow-cpu-aws==2.12.0->tensorflow==2.12.*) (67.6.0)\n",
      "Collecting keras<2.13,>=2.12.0\n",
      "  Downloading keras-2.12.0-py2.py3-none-any.whl (1.7 MB)\n",
      "\u001b[2K     \u001b[90m━━━━━━━━━━━━━━━━━━━━━━━━━━━━━━━━━━━━━━━━\u001b[0m \u001b[32m1.7/1.7 MB\u001b[0m \u001b[31m11.3 MB/s\u001b[0m eta \u001b[36m0:00:00\u001b[0ma \u001b[36m0:00:01\u001b[0m\n",
      "\u001b[?25hCollecting jax>=0.3.15\n",
      "  Downloading jax-0.4.8.tar.gz (1.2 MB)\n",
      "\u001b[2K     \u001b[90m━━━━━━━━━━━━━━━━━━━━━━━━━━━━━━━━━━━━━━━━\u001b[0m \u001b[32m1.2/1.2 MB\u001b[0m \u001b[31m10.7 MB/s\u001b[0m eta \u001b[36m0:00:00\u001b[0ma \u001b[36m0:00:01\u001b[0m\n",
      "\u001b[?25h  Installing build dependencies ... \u001b[?25ldone\n",
      "\u001b[?25h  Getting requirements to build wheel ... \u001b[?25ldone\n",
      "\u001b[?25h  Preparing metadata (pyproject.toml) ... \u001b[?25ldone\n",
      "\u001b[?25hCollecting protobuf!=4.21.0,!=4.21.1,!=4.21.2,!=4.21.3,!=4.21.4,!=4.21.5,<5.0.0dev,>=3.20.3\n",
      "  Downloading protobuf-4.22.3-cp37-abi3-manylinux2014_aarch64.whl (301 kB)\n",
      "\u001b[2K     \u001b[90m━━━━━━━━━━━━━━━━━━━━━━━━━━━━━━━━━━━━━━\u001b[0m \u001b[32m301.2/301.2 kB\u001b[0m \u001b[31m11.0 MB/s\u001b[0m eta \u001b[36m0:00:00\u001b[0m\n",
      "\u001b[?25hCollecting tensorflow-io-gcs-filesystem>=0.23.1\n",
      "  Downloading tensorflow_io_gcs_filesystem-0.32.0-cp310-cp310-manylinux_2_17_aarch64.manylinux2014_aarch64.whl (3.0 MB)\n",
      "\u001b[2K     \u001b[90m━━━━━━━━━━━━━━━━━━━━━━━━━━━━━━━━━━━━━━━━\u001b[0m \u001b[32m3.0/3.0 MB\u001b[0m \u001b[31m11.5 MB/s\u001b[0m eta \u001b[36m0:00:00\u001b[0m00:01\u001b[0m00:01\u001b[0m\n",
      "\u001b[?25hCollecting wrapt<1.15,>=1.11.0\n",
      "  Downloading wrapt-1.14.1-cp310-cp310-manylinux_2_17_aarch64.manylinux2014_aarch64.whl (78 kB)\n",
      "\u001b[2K     \u001b[90m━━━━━━━━━━━━━━━━━━━━━━━━━━━━━━━━━━━━━━━━\u001b[0m \u001b[32m78.0/78.0 kB\u001b[0m \u001b[31m10.5 MB/s\u001b[0m eta \u001b[36m0:00:00\u001b[0m\n",
      "\u001b[?25hRequirement already satisfied: packaging in /usr/local/lib/python3.10/dist-packages (from tensorflow-cpu-aws==2.12.0->tensorflow==2.12.*) (23.0)\n",
      "Collecting h5py>=2.9.0\n",
      "  Downloading h5py-3.8.0-cp310-cp310-manylinux_2_17_aarch64.manylinux2014_aarch64.whl (8.4 MB)\n",
      "\u001b[2K     \u001b[90m━━━━━━━━━━━━━━━━━━━━━━━━━━━━━━━━━━━━━━━━\u001b[0m \u001b[32m8.4/8.4 MB\u001b[0m \u001b[31m10.3 MB/s\u001b[0m eta \u001b[36m0:00:00\u001b[0m00:01\u001b[0m00:01\u001b[0m\n",
      "\u001b[?25hRequirement already satisfied: wheel<1.0,>=0.23.0 in /usr/local/lib/python3.10/dist-packages (from astunparse>=1.6.0->tensorflow-cpu-aws==2.12.0->tensorflow==2.12.*) (0.40.0)\n",
      "Requirement already satisfied: scipy>=1.7 in /usr/local/lib/python3.10/dist-packages (from jax>=0.3.15->tensorflow-cpu-aws==2.12.0->tensorflow==2.12.*) (1.10.1)\n",
      "Collecting ml-dtypes>=0.0.3\n",
      "  Downloading ml_dtypes-0.1.0-cp310-cp310-manylinux_2_17_aarch64.manylinux2014_aarch64.whl (189 kB)\n",
      "\u001b[2K     \u001b[90m━━━━━━━━━━━━━━━━━━━━━━━━━━━━━━━━━━━━━━\u001b[0m \u001b[32m189.7/189.7 kB\u001b[0m \u001b[31m10.6 MB/s\u001b[0m eta \u001b[36m0:00:00\u001b[0m\n",
      "\u001b[?25hCollecting tensorboard-plugin-wit>=1.6.0\n",
      "  Downloading tensorboard_plugin_wit-1.8.1-py3-none-any.whl (781 kB)\n",
      "\u001b[2K     \u001b[90m━━━━━━━━━━━━━━━━━━━━━━━━━━━━━━━━━━━━━━\u001b[0m \u001b[32m781.3/781.3 kB\u001b[0m \u001b[31m11.5 MB/s\u001b[0m eta \u001b[36m0:00:00\u001b[0ma \u001b[36m0:00:01\u001b[0m\n",
      "\u001b[?25hCollecting markdown>=2.6.8\n",
      "  Downloading Markdown-3.4.3-py3-none-any.whl (93 kB)\n",
      "\u001b[2K     \u001b[90m━━━━━━━━━━━━━━━━━━━━━━━━━━━━━━━━━━━━━━━━\u001b[0m \u001b[32m93.9/93.9 kB\u001b[0m \u001b[31m9.8 MB/s\u001b[0m eta \u001b[36m0:00:00\u001b[0m\n",
      "\u001b[?25hCollecting google-auth<3,>=1.6.3\n",
      "  Downloading google_auth-2.17.3-py2.py3-none-any.whl (178 kB)\n",
      "\u001b[2K     \u001b[90m━━━━━━━━━━━━━━━━━━━━━━━━━━━━━━━━━━━━━━\u001b[0m \u001b[32m178.2/178.2 kB\u001b[0m \u001b[31m10.1 MB/s\u001b[0m eta \u001b[36m0:00:00\u001b[0m\n",
      "\u001b[?25hCollecting google-auth-oauthlib<1.1,>=0.5\n",
      "  Downloading google_auth_oauthlib-1.0.0-py2.py3-none-any.whl (18 kB)\n",
      "Collecting werkzeug>=1.0.1\n",
      "  Downloading Werkzeug-2.3.0-py3-none-any.whl (233 kB)\n",
      "\u001b[2K     \u001b[90m━━━━━━━━━━━━━━━━━━━━━━━━━━━━━━━━━━━━━━\u001b[0m \u001b[32m233.7/233.7 kB\u001b[0m \u001b[31m11.1 MB/s\u001b[0m eta \u001b[36m0:00:00\u001b[0m\n",
      "\u001b[?25hCollecting tensorboard-data-server<0.8.0,>=0.7.0\n",
      "  Downloading tensorboard_data_server-0.7.0-py3-none-any.whl (2.4 kB)\n",
      "Requirement already satisfied: requests<3,>=2.21.0 in /usr/local/lib/python3.10/dist-packages (from tensorboard<2.13,>=2.12->tensorflow-cpu-aws==2.12.0->tensorflow==2.12.*) (2.28.2)\n",
      "Collecting rsa<5,>=3.1.4\n",
      "  Downloading rsa-4.9-py3-none-any.whl (34 kB)\n",
      "Collecting pyasn1-modules>=0.2.1\n",
      "  Downloading pyasn1_modules-0.3.0-py2.py3-none-any.whl (181 kB)\n",
      "\u001b[2K     \u001b[90m━━━━━━━━━━━━━━━━━━━━━━━━━━━━━━━━━━━━━━\u001b[0m \u001b[32m181.3/181.3 kB\u001b[0m \u001b[31m10.2 MB/s\u001b[0m eta \u001b[36m0:00:00\u001b[0m\n",
      "\u001b[?25hCollecting cachetools<6.0,>=2.0.0\n",
      "  Downloading cachetools-5.3.0-py3-none-any.whl (9.3 kB)\n",
      "Collecting requests-oauthlib>=0.7.0\n",
      "  Downloading requests_oauthlib-1.3.1-py2.py3-none-any.whl (23 kB)\n",
      "Requirement already satisfied: idna<4,>=2.5 in /usr/local/lib/python3.10/dist-packages (from requests<3,>=2.21.0->tensorboard<2.13,>=2.12->tensorflow-cpu-aws==2.12.0->tensorflow==2.12.*) (3.4)\n",
      "Requirement already satisfied: certifi>=2017.4.17 in /usr/local/lib/python3.10/dist-packages (from requests<3,>=2.21.0->tensorboard<2.13,>=2.12->tensorflow-cpu-aws==2.12.0->tensorflow==2.12.*) (2022.12.7)\n",
      "Requirement already satisfied: charset-normalizer<4,>=2 in /usr/local/lib/python3.10/dist-packages (from requests<3,>=2.21.0->tensorboard<2.13,>=2.12->tensorflow-cpu-aws==2.12.0->tensorflow==2.12.*) (3.1.0)\n",
      "Requirement already satisfied: urllib3<1.27,>=1.21.1 in /usr/local/lib/python3.10/dist-packages (from requests<3,>=2.21.0->tensorboard<2.13,>=2.12->tensorflow-cpu-aws==2.12.0->tensorflow==2.12.*) (1.26.15)\n",
      "Requirement already satisfied: MarkupSafe>=2.1.1 in /usr/local/lib/python3.10/dist-packages (from werkzeug>=1.0.1->tensorboard<2.13,>=2.12->tensorflow-cpu-aws==2.12.0->tensorflow==2.12.*) (2.1.2)\n",
      "Collecting pyasn1<0.6.0,>=0.4.6\n",
      "  Downloading pyasn1-0.5.0-py2.py3-none-any.whl (83 kB)\n",
      "\u001b[2K     \u001b[90m━━━━━━━━━━━━━━━━━━━━━━━━━━━━━━━━━━━━━━━━\u001b[0m \u001b[32m83.9/83.9 kB\u001b[0m \u001b[31m10.9 MB/s\u001b[0m eta \u001b[36m0:00:00\u001b[0m\n",
      "\u001b[?25hCollecting oauthlib>=3.0.0\n",
      "  Downloading oauthlib-3.2.2-py3-none-any.whl (151 kB)\n",
      "\u001b[2K     \u001b[90m━━━━━━━━━━━━━━━━━━━━━━━━━━━━━━━━━━━━━━\u001b[0m \u001b[32m151.7/151.7 kB\u001b[0m \u001b[31m10.6 MB/s\u001b[0m eta \u001b[36m0:00:00\u001b[0m\n",
      "\u001b[?25hBuilding wheels for collected packages: jax\n",
      "  Building wheel for jax (pyproject.toml) ... \u001b[?25ldone\n",
      "\u001b[?25h  Created wheel for jax: filename=jax-0.4.8-py3-none-any.whl size=1439678 sha256=5c8ba59322b0ab0d2f56a95aeee18aa14f110343b2afb287883db38575fa8f2c\n",
      "  Stored in directory: /root/.cache/pip/wheels/09/6f/35/a8fac8b61de8e0d9eb07988481528898561923e260b1fa7d2f\n",
      "Successfully built jax\n",
      "Installing collected packages: tensorboard-plugin-wit, libclang, flatbuffers, wrapt, werkzeug, termcolor, tensorflow-io-gcs-filesystem, tensorflow-estimator, tensorboard-data-server, pyasn1, protobuf, oauthlib, numpy, markdown, keras, grpcio, google-pasta, gast, cachetools, astunparse, absl-py, rsa, requests-oauthlib, pyasn1-modules, opt-einsum, ml-dtypes, h5py, jax, google-auth, google-auth-oauthlib, tensorboard, tensorflow-cpu-aws, tensorflow\n",
      "  Attempting uninstall: numpy\n",
      "    Found existing installation: numpy 1.24.2\n",
      "    Uninstalling numpy-1.24.2:\n",
      "      Successfully uninstalled numpy-1.24.2\n",
      "Successfully installed absl-py-1.4.0 astunparse-1.6.3 cachetools-5.3.0 flatbuffers-23.3.3 gast-0.4.0 google-auth-2.17.3 google-auth-oauthlib-1.0.0 google-pasta-0.2.0 grpcio-1.54.0 h5py-3.8.0 jax-0.4.8 keras-2.12.0 libclang-16.0.0 markdown-3.4.3 ml-dtypes-0.1.0 numpy-1.23.5 oauthlib-3.2.2 opt-einsum-3.3.0 protobuf-4.22.3 pyasn1-0.5.0 pyasn1-modules-0.3.0 requests-oauthlib-1.3.1 rsa-4.9 tensorboard-2.12.2 tensorboard-data-server-0.7.0 tensorboard-plugin-wit-1.8.1 tensorflow-2.12.0 tensorflow-cpu-aws-2.12.0 tensorflow-estimator-2.12.0 tensorflow-io-gcs-filesystem-0.32.0 termcolor-2.3.0 werkzeug-2.3.0 wrapt-1.14.1\n",
      "\u001b[33mWARNING: Running pip as the 'root' user can result in broken permissions and conflicting behaviour with the system package manager. It is recommended to use a virtual environment instead: https://pip.pypa.io/warnings/venv\u001b[0m\u001b[33m\n",
      "\u001b[0m\n",
      "\u001b[1m[\u001b[0m\u001b[34;49mnotice\u001b[0m\u001b[1;39;49m]\u001b[0m\u001b[39;49m A new release of pip is available: \u001b[0m\u001b[31;49m23.0.1\u001b[0m\u001b[39;49m -> \u001b[0m\u001b[32;49m23.1.1\u001b[0m\n",
      "\u001b[1m[\u001b[0m\u001b[34;49mnotice\u001b[0m\u001b[1;39;49m]\u001b[0m\u001b[39;49m To update, run: \u001b[0m\u001b[32;49mpython3.10 -m pip install --upgrade pip\u001b[0m\n",
      "Note: you may need to restart the kernel to use updated packages.\n"
     ]
    }
   ],
   "source": [
    "# !pip install tensorflow==2.12.*"
   ]
  },
  {
   "cell_type": "code",
   "execution_count": null,
   "id": "6e3e6082-2e87-43d9-8038-5e1ce0b3ef67",
   "metadata": {},
   "outputs": [],
   "source": [
    "#  Steps of the work:\n",
    "\n",
    "# Make a model with accessible parameters using TensorFlow 2.x\n",
    "# Write an entropy loss and add it to the network parameters for training.\n",
    "# Train a model by jointly optimizing its loss (e.g. cross entropy for classification) and the entropy for compressability.\n",
    "# Compress the model parameters using Huffman coding.\n",
    "# Analyze the results and trade-off between accuracy and compressability.\n",
    "# Write a model wrapper that can read and write the compressed parameters.\n",
    "\n",
    "# Notes:\n",
    "\n",
    "# Can be started on simple datasets like MNIST.\n",
    "# Can start from simple MLP NNs. And then extend to convs. The implementation should be generic enough so that it can support any layer.\n",
    "# Bonus: add support for normalization layers: batch norm, instance norm, etc."
   ]
  },
  {
   "cell_type": "code",
   "execution_count": 4,
   "id": "c83f182a",
   "metadata": {},
   "outputs": [
    {
     "name": "stdout",
     "output_type": "stream",
     "text": [
      "Downloading data from https://storage.googleapis.com/tensorflow/tf-keras-datasets/mnist.npz\n",
      "11490434/11490434 [==============================] - 1s 0us/step\n"
     ]
    }
   ],
   "source": [
    "# Load MNIST data set\n",
    "\n",
    "from tensorflow.keras.datasets import mnist\n",
    "train_set, test_set = mnist.load_data()"
   ]
  },
  {
   "cell_type": "code",
   "execution_count": 6,
   "id": "49010b4d",
   "metadata": {},
   "outputs": [],
   "source": [
    "# generate a simple NN model\n",
    "\n",
    "from tensorflow.keras.layers import Dense, Input, Flatten\n",
    "from tensorflow.keras.models import Model\n",
    "import tensorflow as tf\n",
    "from tensorflow import keras\n",
    "import numpy as np\n",
    "\n",
    "    \n",
    "kernel_initializer = 'he_normal'\n",
    "activation = \"relu\"\n",
    "\n",
    "def get_model(chs=256):\n",
    "    shape=(28,28,1)\n",
    "    \n",
    "    inputs = Input(shape)\n",
    "    layer = Flatten()(inputs)\n",
    "    layer = Dense(units=chs, activation=activation, kernel_initializer=kernel_initializer)(layer)\n",
    "    layer = Dense(units=chs, activation=activation, kernel_initializer=kernel_initializer)(layer)\n",
    "    output = Dense(10, activation='linear', use_bias=True, kernel_initializer=kernel_initializer)(layer)\n",
    "\n",
    "    model = Model(inputs, output)\n",
    "    return model\n",
    "\n"
   ]
  },
  {
   "cell_type": "code",
   "execution_count": 22,
   "id": "a7a1dc7f",
   "metadata": {},
   "outputs": [
    {
     "data": {
      "text/plain": [
       "[<keras.engine.input_layer.InputLayer at 0xffffa033de10>,\n",
       " <keras.layers.reshaping.flatten.Flatten at 0xffff3cb74a30>,\n",
       " <keras.layers.core.dense.Dense at 0xffff3cb49630>,\n",
       " <keras.layers.core.dense.Dense at 0xffff3cb48e20>,\n",
       " <keras.layers.core.dense.Dense at 0xffff3cb483a0>]"
      ]
     },
     "execution_count": 22,
     "metadata": {},
     "output_type": "execute_result"
    }
   ],
   "source": [
    "model.layers"
   ]
  },
  {
   "cell_type": "code",
   "execution_count": 23,
   "id": "49cc25ad-7b2e-4d10-927b-1fd2eaf471c8",
   "metadata": {},
   "outputs": [
    {
     "data": {
      "text/plain": [
       "<keras.engine.input_layer.InputLayer at 0xffffa033de10>"
      ]
     },
     "execution_count": 23,
     "metadata": {},
     "output_type": "execute_result"
    }
   ],
   "source": [
    "model.layers[0]"
   ]
  },
  {
   "cell_type": "code",
   "execution_count": 25,
   "id": "19dd16ce-96f6-4b38-81a1-d3b874992753",
   "metadata": {},
   "outputs": [
    {
     "data": {
      "text/plain": [
       "[<tf.Variable 'dense/kernel:0' shape=(784, 256) dtype=float32, numpy=\n",
       " array([[ 0.04747557, -0.0241543 ,  0.06825899, ..., -0.06088347,\n",
       "         -0.01428646,  0.09181509],\n",
       "        [ 0.01840485, -0.08634035, -0.05705916, ...,  0.06484796,\n",
       "         -0.08538831, -0.06986799],\n",
       "        [ 0.08091406,  0.09522551,  0.06740516, ..., -0.02281002,\n",
       "          0.06427108, -0.05539102],\n",
       "        ...,\n",
       "        [ 0.0265468 , -0.02665523,  0.01700675, ..., -0.02849575,\n",
       "          0.06601989,  0.06358932],\n",
       "        [ 0.01959939, -0.0224366 ,  0.00977207, ..., -0.00086983,\n",
       "          0.11475715, -0.05219548],\n",
       "        [ 0.01873984,  0.05438872, -0.04925571, ...,  0.08855245,\n",
       "          0.06425571,  0.05567208]], dtype=float32)>,\n",
       " <tf.Variable 'dense/bias:0' shape=(256,) dtype=float32, numpy=\n",
       " array([-0.01938667, -0.02402712, -0.02026186, -0.01597225, -0.01930892,\n",
       "        -0.02138305, -0.02111024, -0.01609827, -0.01176102, -0.01660232,\n",
       "        -0.01214598, -0.02503965, -0.00847238, -0.01553644, -0.02141835,\n",
       "        -0.0182948 , -0.01415705, -0.02856133, -0.02235124, -0.0184906 ,\n",
       "        -0.01980454, -0.00764718, -0.01176878, -0.01462248,  0.00620595,\n",
       "        -0.01009629, -0.02009283, -0.02946283, -0.01492577, -0.01551316,\n",
       "        -0.01436281, -0.01632406, -0.00704392, -0.01266964, -0.01902247,\n",
       "        -0.02090189, -0.01933132, -0.02188158, -0.01791824, -0.02688207,\n",
       "        -0.00341474, -0.01601587, -0.01301129, -0.00638796, -0.02004089,\n",
       "        -0.00815043, -0.02182102, -0.01600932, -0.01629139, -0.01343537,\n",
       "        -0.0145917 , -0.00354202, -0.0166515 , -0.02899832, -0.02218091,\n",
       "        -0.01879885, -0.00467997, -0.00970182, -0.01921025, -0.02474514,\n",
       "        -0.01692282, -0.01159249, -0.00587611, -0.0102907 , -0.01291718,\n",
       "         0.00060772, -0.0163746 , -0.01106477, -0.01826946, -0.0179813 ,\n",
       "        -0.01114027, -0.02424564, -0.00603987, -0.00121676, -0.0128989 ,\n",
       "        -0.01123897, -0.01253339, -0.01029159, -0.01304048, -0.01889228,\n",
       "        -0.00219421, -0.02318547, -0.01113741, -0.02021942, -0.01104876,\n",
       "         0.00401117, -0.01296061, -0.02413136, -0.00431537, -0.01484058,\n",
       "         0.01411259, -0.00270068, -0.02414512, -0.00583327, -0.02049368,\n",
       "        -0.01892359, -0.02078377, -0.02537923, -0.02523067, -0.00921207,\n",
       "        -0.02255935, -0.02022262, -0.01619757, -0.01143159, -0.02011756,\n",
       "        -0.00800884, -0.02371728, -0.00665616, -0.01402137, -0.00528565,\n",
       "        -0.02804143, -0.02019164,  0.01709867, -0.02502031, -0.01744277,\n",
       "        -0.02311147, -0.00351717, -0.0261788 , -0.00951516, -0.01539325,\n",
       "        -0.01241423, -0.02606255, -0.02651384, -0.03080117, -0.01877149,\n",
       "        -0.02326756, -0.0010079 , -0.02380651, -0.01240914, -0.01494359,\n",
       "        -0.01940327, -0.00541087, -0.01420695, -0.00446315, -0.0174097 ,\n",
       "        -0.01931793, -0.02040875, -0.00845913, -0.00508324, -0.00049113,\n",
       "        -0.02254903, -0.02307448, -0.0181262 , -0.00811984, -0.01418924,\n",
       "        -0.0206768 , -0.01807068, -0.01757029, -0.01843589, -0.02276237,\n",
       "        -0.01390979,  0.0079788 , -0.01198522, -0.02001803,  0.00380727,\n",
       "        -0.01193972, -0.01614536, -0.00747141, -0.01553245,  0.00104172,\n",
       "        -0.01696779, -0.02004748, -0.01659252, -0.02594278,  0.01290498,\n",
       "        -0.01876765, -0.02164106, -0.00965409, -0.02256303, -0.02470033,\n",
       "        -0.00509433, -0.01803453, -0.02169864, -0.02505626, -0.01408079,\n",
       "        -0.01164196, -0.00757096, -0.00323357, -0.01149362, -0.02807587,\n",
       "        -0.01690694, -0.02675685, -0.01683511,  0.02005083, -0.017684  ,\n",
       "        -0.02448945, -0.01827067, -0.01418624, -0.01333413, -0.0179332 ,\n",
       "        -0.01835796, -0.01588213, -0.00591056, -0.02267829, -0.00441345,\n",
       "        -0.02929196, -0.02047062, -0.00482183, -0.0215876 , -0.00250226,\n",
       "         0.00061935, -0.02828655, -0.01084059, -0.01698123,  0.01215874,\n",
       "        -0.02055907, -0.02307399, -0.01440187, -0.00993078, -0.01773005,\n",
       "        -0.00762425, -0.00382642, -0.01428949, -0.03050961, -0.01510866,\n",
       "        -0.01470838, -0.01193099, -0.02400782, -0.02190501, -0.01119721,\n",
       "        -0.02167356, -0.02537381, -0.00413495, -0.02167464, -0.00330966,\n",
       "        -0.01122805, -0.00604918, -0.00201672, -0.01641752, -0.02481185,\n",
       "        -0.01795156, -0.01380812, -0.00859142, -0.01791237, -0.00795099,\n",
       "        -0.01031001, -0.01968211, -0.01897152, -0.01453305, -0.01873687,\n",
       "        -0.02590807, -0.00138312, -0.01574543, -0.02052166, -0.0158425 ,\n",
       "        -0.02103802, -0.00587181,  0.00159559, -0.01131681, -0.01589075,\n",
       "        -0.01830405, -0.01680087, -0.01921119, -0.01796952, -0.04937249,\n",
       "        -0.0202028 ], dtype=float32)>,\n",
       " <tf.Variable 'dense_1/kernel:0' shape=(256, 256) dtype=float32, numpy=\n",
       " array([[ 0.00876832, -0.0225054 ,  0.12847385, ..., -0.04984407,\n",
       "          0.06686877, -0.09314334],\n",
       "        [ 0.12783732, -0.08967711, -0.07513743, ..., -0.01538674,\n",
       "         -0.1612809 , -0.13914804],\n",
       "        [-0.03734451, -0.17658377, -0.05800889, ...,  0.01645192,\n",
       "          0.09132797, -0.11082552],\n",
       "        ...,\n",
       "        [ 0.00070547,  0.06295619, -0.01284417, ...,  0.07480676,\n",
       "          0.00189365, -0.0448655 ],\n",
       "        [ 0.02916585, -0.0669542 ,  0.04126893, ..., -0.11057509,\n",
       "          0.13459517, -0.0921976 ],\n",
       "        [ 0.01171881, -0.14320749, -0.1393204 , ...,  0.03351262,\n",
       "         -0.02253026, -0.09276298]], dtype=float32)>,\n",
       " <tf.Variable 'dense_1/bias:0' shape=(256,) dtype=float32, numpy=\n",
       " array([-0.05673756, -0.02691502, -0.0170518 , -0.03819564, -0.00286599,\n",
       "        -0.04169782, -0.05486009, -0.03191013, -0.05741723, -0.04072145,\n",
       "        -0.04913826, -0.03458591,  0.0074245 , -0.03912058, -0.01710488,\n",
       "        -0.00859169,  0.00897662, -0.0253861 , -0.01869826, -0.02549985,\n",
       "        -0.05472627, -0.05111364, -0.03595694,  0.0043235 , -0.0190334 ,\n",
       "         0.01560944, -0.03636926, -0.01458638, -0.01635994, -0.02838653,\n",
       "        -0.02498704, -0.03738479, -0.04579081, -0.01226693, -0.0640948 ,\n",
       "        -0.01445151, -0.03199788, -0.04377031, -0.04744089, -0.04830552,\n",
       "        -0.02211184, -0.02463984, -0.03909995, -0.03177872, -0.02892109,\n",
       "        -0.01655419, -0.03733556, -0.01374051, -0.0286833 , -0.03528316,\n",
       "        -0.05971289, -0.00742375, -0.03754054, -0.02704611, -0.00437112,\n",
       "        -0.01344268, -0.03576487, -0.04098649, -0.02226069, -0.01971597,\n",
       "        -0.03794691, -0.02673303, -0.042438  , -0.02206706, -0.03692064,\n",
       "        -0.04379555, -0.04705609, -0.06223381, -0.05032098, -0.01326629,\n",
       "        -0.02838453, -0.0340619 , -0.01664923, -0.02503822, -0.04140875,\n",
       "        -0.00830238, -0.02875042, -0.03509124, -0.03484607, -0.01059788,\n",
       "        -0.01225797, -0.05046265, -0.00672816, -0.01202339,  0.01068351,\n",
       "        -0.02136346, -0.0147925 , -0.03876215, -0.03625531, -0.0023996 ,\n",
       "        -0.02238131, -0.01562917, -0.02415214, -0.01662476, -0.02268947,\n",
       "        -0.01781323, -0.01165668, -0.0279523 , -0.02059476, -0.05118325,\n",
       "        -0.03526655, -0.06095626, -0.02454582, -0.05706113, -0.0172148 ,\n",
       "        -0.04301449, -0.06459025, -0.01330848, -0.01546095, -0.04626284,\n",
       "        -0.02486457,  0.0127852 , -0.02867811, -0.01803911, -0.04425326,\n",
       "        -0.06797353, -0.00802931, -0.04793707, -0.04995922, -0.02110195,\n",
       "        -0.04689315, -0.04109089, -0.03665962, -0.05840123, -0.03604561,\n",
       "        -0.04224323, -0.02238498, -0.04790055, -0.02109027, -0.01912426,\n",
       "        -0.00140426, -0.01082933, -0.03181981, -0.04890898, -0.02837679,\n",
       "        -0.0191132 , -0.03928002, -0.01219473, -0.02105886, -0.0397387 ,\n",
       "        -0.02808224, -0.05828079, -0.04446204, -0.01590908, -0.06739838,\n",
       "        -0.03659032, -0.03848569, -0.01790134, -0.03157291, -0.01589409,\n",
       "        -0.03353693, -0.04463579, -0.01143245, -0.01607437, -0.02162156,\n",
       "        -0.05984417, -0.04083131, -0.04133609, -0.02725214, -0.03809399,\n",
       "        -0.00405594, -0.03588139, -0.00845283, -0.01167096, -0.03716401,\n",
       "        -0.04004135, -0.01999594, -0.02869199, -0.01394215, -0.00649242,\n",
       "        -0.07067273, -0.04879689, -0.05397429, -0.02356805, -0.04589113,\n",
       "        -0.04425266, -0.02287395, -0.04530773, -0.04072934, -0.0053867 ,\n",
       "        -0.03497945, -0.02033331, -0.03759575, -0.03471189, -0.04412355,\n",
       "        -0.04262307, -0.00620173, -0.02283327, -0.03437269, -0.02708412,\n",
       "        -0.03355537, -0.02143935, -0.06226893, -0.03920486, -0.01813833,\n",
       "        -0.0645122 ,  0.00569039, -0.00121217, -0.04553852, -0.036928  ,\n",
       "        -0.04460528, -0.03165766, -0.0276681 , -0.0170267 , -0.0547749 ,\n",
       "        -0.02739309, -0.02983852, -0.04944089, -0.04515339, -0.00858251,\n",
       "        -0.03616262, -0.01526175, -0.03374057, -0.01140636, -0.02400477,\n",
       "        -0.03331306, -0.05168091, -0.04725461, -0.03099875, -0.0133834 ,\n",
       "        -0.0271984 , -0.04222121, -0.03797026, -0.05556935, -0.02384028,\n",
       "        -0.02254087, -0.03045852, -0.04801898, -0.04813295, -0.03978575,\n",
       "        -0.04417392, -0.00898701, -0.0382798 ,  0.02155837,  0.00775675,\n",
       "        -0.04864651, -0.01451857, -0.03285966, -0.05043982, -0.0318714 ,\n",
       "        -0.01104738, -0.05138273, -0.04343954, -0.02298237, -0.02404855,\n",
       "        -0.03282641, -0.03419001, -0.02469118, -0.00076348, -0.02861737,\n",
       "        -0.02306947, -0.0311951 , -0.02187616, -0.05126411, -0.03258037,\n",
       "        -0.02681127], dtype=float32)>,\n",
       " <tf.Variable 'dense_2/kernel:0' shape=(256, 10) dtype=float32, numpy=\n",
       " array([[ 0.09573291, -0.08483384,  0.13161162, ...,  0.07909732,\n",
       "         -0.07653725, -0.00433524],\n",
       "        [ 0.01539328,  0.09419636,  0.04150574, ..., -0.10609779,\n",
       "         -0.0310053 ,  0.01259115],\n",
       "        [ 0.04819234,  0.14796717, -0.05462927, ...,  0.00201036,\n",
       "          0.02582703,  0.02598198],\n",
       "        ...,\n",
       "        [-0.08816775,  0.1291405 ,  0.07641941, ..., -0.02032861,\n",
       "          0.0641918 , -0.0197832 ],\n",
       "        [-0.01691739, -0.04415347,  0.00427163, ..., -0.08357403,\n",
       "         -0.06258747, -0.09128411],\n",
       "        [-0.03357965, -0.03373582, -0.03420746, ...,  0.00897592,\n",
       "         -0.07787499, -0.04180011]], dtype=float32)>,\n",
       " <tf.Variable 'dense_2/bias:0' shape=(10,) dtype=float32, numpy=\n",
       " array([-0.03726998, -0.01356535, -0.00831557, -0.01287498,  0.02598689,\n",
       "         0.01094066, -0.02124565,  0.00655056,  0.02085979,  0.01680298],\n",
       "       dtype=float32)>]"
      ]
     },
     "execution_count": 25,
     "metadata": {},
     "output_type": "execute_result"
    }
   ],
   "source": [
    "model.trainable_variables"
   ]
  },
  {
   "cell_type": "code",
   "execution_count": null,
   "id": "e61b7b27-3abe-42ee-b456-278b24f294b6",
   "metadata": {},
   "outputs": [],
   "source": []
  },
  {
   "cell_type": "code",
   "execution_count": 97,
   "id": "12aa3fbf-886e-4ba6-a3d2-a3230d0bbbd2",
   "metadata": {},
   "outputs": [
    {
     "data": {
      "text/plain": [
       "<tf.Tensor: shape=(1, 10), dtype=int64, numpy=array([[450, 460, 470, 480, 490, 500, 510, 520, 530, 540]])>"
      ]
     },
     "execution_count": 97,
     "metadata": {},
     "output_type": "execute_result"
    }
   ],
   "source": [
    "tf.reduce_sum(np.arange(100).reshape((10,10)), axis=0, keepdims=True)\n",
    "\n"
   ]
  },
  {
   "cell_type": "code",
   "execution_count": 149,
   "id": "991b1111",
   "metadata": {},
   "outputs": [],
   "source": [
    "def calculate_entropy_range(variables, scale=3):\n",
    "    \n",
    "    std = tf.math.reduce_variance(variables)**0.5\n",
    "    if std==0.0:\n",
    "        std = 1.0\n",
    "    mean = tf.math.reduce_mean(variables)\n",
    "#     To estimate the histogram, we first remove outliers in the\n",
    "# activations if the samples are outside the range [μ−3σ; μ+3σ],\n",
    "\n",
    "    return mean - std*scale, mean + std*scale\n",
    "    \n",
    "bins = np.arange(256, dtype=np.float32)\n",
    "bins = tf.convert_to_tensor(bins)\n",
    "bins = tf.reshape(bins, (1,-1))\n",
    "\n",
    "# def calculate_weights(variables, min_h, max_h):\n",
    "# #    calculate weight δj,k\n",
    "# #    Δ = 1/Nb.\n",
    "# #    nodes t1 = 0, t2, ..., tNb = 1 uniformly filling the range [0; 1]\n",
    "\n",
    "#     xk = \n",
    "#     tj = \n",
    "# #    if xk ∈ [tj−1; tj ] then (xk − tj−1)/Δ\n",
    "#     if \n",
    "#         return \n",
    "# #     if xk ∈ [tj ; tj+1] then (tj+1 − xk)/Δ\n",
    "#     elif:\n",
    "#         return \n",
    "# #     otherwise.\n",
    "#     else:\n",
    "#         return 0\n",
    "    \n",
    "#     return -1\n",
    "def calculate_weights(variables, min_h, max_h):\n",
    "    nbins = len(variables)\n",
    "    weights = tf.zeros(nbins)\n",
    "    t = tf.linspace(0, 1, nbins)\n",
    "    delta = 1 / nbins\n",
    "\n",
    "    for j in range(nbins):\n",
    "        for k in range(len(variables[j])):\n",
    "            xk = variables[j][k]\n",
    "            for i in range(nbins):\n",
    "                tj = t[i]\n",
    "                tj1 = t[max(0, i-1)]\n",
    "                tj2 = t[min(nbins-1, i+1)]\n",
    "                w = weight(xk, tj, tj1, tj2)\n",
    "                weights[i] += w\n",
    "\n",
    "    weights /= delta * len(variables[0])\n",
    "    weights /= tf.experimental.numpy.max(weights)\n",
    "\n",
    "    return weights\n",
    "\n",
    "def weight(xk, tj, tj1, tj2):\n",
    "#    if xk ∈ [tj−1; tj ] then (xk − tj−1)/Δ\n",
    "#     if xk ∈ [tj ; tj+1] then (tj+1 − xk)/Δ\n",
    "#     otherwise return 0\n",
    "    delta = tj2 - tj1\n",
    "    if delta == 0:\n",
    "        return 0.0\n",
    "\n",
    "    if tj1 <= xk <= tj:\n",
    "        return (xk - tj1) / delta\n",
    "    elif tj <= xk <= tj2:\n",
    "        return (tj2 - xk) / delta\n",
    "    else:\n",
    "        return 0.0\n",
    "\n",
    "def calculate_histogram(variables, min_h, max_h):\n",
    "    flat_vars = tf.reshape(variables, (-1,1))\n",
    "    scaled_vars = (flat_vars-min_h)*255/(max_h-min_h)\n",
    "    \n",
    "#     diff = bins - scaled_vars\n",
    "    diff = calculate_weights(variables, min_h, max_h)\n",
    "    p_ = tf.exp(-(diff**2))\n",
    "    p = p_ / (tf.reduce_sum(p_, axis=1, keepdims=True)+1e-10)\n",
    "    hist = tf.reduce_sum(p, axis=0)\n",
    "    return hist\n",
    "    \n",
    "def calculate_entropy(variables, eps=1e-10):\n",
    "    flat_vars = tf.reshape(variables, (-1,1))\n",
    "    min_h, max_h = calculate_entropy_range(variables)\n",
    "    \n",
    "    hist = calculate_histogram(flat_vars, min_h, max_h)\n",
    "    #hist = tf.histogram_fixed_width(flat_vars, [min_h,max_h])\n",
    "    \n",
    "    probs = hist / tf.reduce_sum(hist)\n",
    "#     probs[probs == 0] = 1  # replace zeros with ones\n",
    "    entropy = -tf.reduce_sum(probs * tf.experimental.numpy.log2(probs+eps))\n",
    "#     print(entropy,':: ', np.min(flat_vars),':: ', np.max(flat_vars),':: ', bins[0],':: ',bins[1])\n",
    "    return entropy, (min_h, max_h)\n",
    "\n",
    "\n",
    "class CompressibleNN(keras.Model):\n",
    "    def __init__(self, net_model):\n",
    "        super(CompressibleNN, self).__init__()\n",
    "        self.net_model = net_model\n",
    "        self.CE_loss = keras.losses.SparseCategoricalCrossentropy(from_logits=True)\n",
    "\n",
    "    def call(self, inputs):\n",
    "        return self.net_model(inputs)\n",
    "    \n",
    "    def entropy_loss(self, inputs):\n",
    "        # TODO implemment the entropy calculation here for each layer parameters\n",
    "        # for each layer: calculate a histogram and from then calculate the entropy\n",
    "        # return a sum of all entropies\n",
    "        \n",
    "        entropy = 0\n",
    "        \n",
    "        for l in self.net_model.layers:\n",
    "            if isinstance(l, keras.layers.Dense):\n",
    "                for v in l.trainable_variables:\n",
    "                    v_entropy, v_range = calculate_entropy(v)\n",
    "                    entropy += v_entropy\n",
    "\n",
    "        return entropy\n",
    "    \n",
    "    def train_step(self, input):\n",
    "        images = input[0]\n",
    "        labels = input[1]\n",
    "\n",
    "        with tf.GradientTape() as tape:\n",
    "            output = self.net_model(images)\n",
    "            loss =  self.entropy_loss(images)\n",
    "\n",
    "        # Get the gradients w.r.t the loss\n",
    "        gradient = tape.gradient(loss, self.net_model.trainable_variables)\n",
    "        # Update the weights using the generator optimizer\n",
    "        self.optimizer.apply_gradients(\n",
    "            zip(gradient, self.net_model.trainable_variables)\n",
    "        )\n",
    "        return {\"loss\": loss}\n",
    "    \n",
    "model = get_model()\n",
    "compNN = CompressibleNN(model)\n",
    "optimizer = tf.optimizers.Adam(learning_rate=1e-3, beta_1=0.9)\n",
    "compNN.compile(optimizer, loss=keras.losses.SparseCategoricalCrossentropy(from_logits=True))\n"
   ]
  },
  {
   "cell_type": "code",
   "execution_count": null,
   "id": "c2bfe0e3-a0f5-4bff-8b28-dfbbe33ddbea",
   "metadata": {},
   "outputs": [],
   "source": []
  },
  {
   "cell_type": "code",
   "execution_count": 150,
   "id": "83ebe346-e36f-40c4-8515-8f05d1bd9a2b",
   "metadata": {},
   "outputs": [],
   "source": [
    "np_h=np.histogram(model.layers[3].variables[0], bins=256)"
   ]
  },
  {
   "cell_type": "code",
   "execution_count": null,
   "id": "c0fe9808-3523-455e-af27-ae59d04d35f6",
   "metadata": {},
   "outputs": [],
   "source": []
  },
  {
   "cell_type": "code",
   "execution_count": 151,
   "id": "4ec97e33-b3fe-4a50-a18d-1dc7d63a68af",
   "metadata": {},
   "outputs": [
    {
     "ename": "TypeError",
     "evalue": "object of type 'ResourceVariable' has no len()",
     "output_type": "error",
     "traceback": [
      "\u001b[0;31m---------------------------------------------------------------------------\u001b[0m",
      "\u001b[0;31mTypeError\u001b[0m                                 Traceback (most recent call last)",
      "Cell \u001b[0;32mIn[151], line 2\u001b[0m\n\u001b[1;32m      1\u001b[0m min_h, max_h \u001b[38;5;241m=\u001b[39m calculate_entropy_range(model\u001b[38;5;241m.\u001b[39mlayers[\u001b[38;5;241m3\u001b[39m]\u001b[38;5;241m.\u001b[39mvariables[\u001b[38;5;241m0\u001b[39m])\n\u001b[0;32m----> 2\u001b[0m our_h\u001b[38;5;241m=\u001b[39m\u001b[43mcalculate_histogram\u001b[49m\u001b[43m(\u001b[49m\u001b[43mmodel\u001b[49m\u001b[38;5;241;43m.\u001b[39;49m\u001b[43mlayers\u001b[49m\u001b[43m[\u001b[49m\u001b[38;5;241;43m3\u001b[39;49m\u001b[43m]\u001b[49m\u001b[38;5;241;43m.\u001b[39;49m\u001b[43mvariables\u001b[49m\u001b[43m[\u001b[49m\u001b[38;5;241;43m0\u001b[39;49m\u001b[43m]\u001b[49m\u001b[43m,\u001b[49m\u001b[43m \u001b[49m\u001b[43mmin_h\u001b[49m\u001b[43m,\u001b[49m\u001b[43m \u001b[49m\u001b[43mmax_h\u001b[49m\u001b[43m)\u001b[49m\n",
      "Cell \u001b[0;32mIn[149], line 75\u001b[0m, in \u001b[0;36mcalculate_histogram\u001b[0;34m(variables, min_h, max_h)\u001b[0m\n\u001b[1;32m     72\u001b[0m     scaled_vars \u001b[38;5;241m=\u001b[39m (flat_vars\u001b[38;5;241m-\u001b[39mmin_h)\u001b[38;5;241m*\u001b[39m\u001b[38;5;241m255\u001b[39m\u001b[38;5;241m/\u001b[39m(max_h\u001b[38;5;241m-\u001b[39mmin_h)\n\u001b[1;32m     74\u001b[0m \u001b[38;5;66;03m#     diff = bins - scaled_vars\u001b[39;00m\n\u001b[0;32m---> 75\u001b[0m     diff \u001b[38;5;241m=\u001b[39m \u001b[43mcalculate_weights\u001b[49m\u001b[43m(\u001b[49m\u001b[43mvariables\u001b[49m\u001b[43m,\u001b[49m\u001b[43m \u001b[49m\u001b[43mmin_h\u001b[49m\u001b[43m,\u001b[49m\u001b[43m \u001b[49m\u001b[43mmax_h\u001b[49m\u001b[43m)\u001b[49m\n\u001b[1;32m     76\u001b[0m     p_ \u001b[38;5;241m=\u001b[39m tf\u001b[38;5;241m.\u001b[39mexp(\u001b[38;5;241m-\u001b[39m(diff\u001b[38;5;241m*\u001b[39m\u001b[38;5;241m*\u001b[39m\u001b[38;5;241m2\u001b[39m))\n\u001b[1;32m     77\u001b[0m     p \u001b[38;5;241m=\u001b[39m p_ \u001b[38;5;241m/\u001b[39m (tf\u001b[38;5;241m.\u001b[39mreduce_sum(p_, axis\u001b[38;5;241m=\u001b[39m\u001b[38;5;241m1\u001b[39m, keepdims\u001b[38;5;241m=\u001b[39m\u001b[38;5;28;01mTrue\u001b[39;00m)\u001b[38;5;241m+\u001b[39m\u001b[38;5;241m1e-10\u001b[39m)\n",
      "Cell \u001b[0;32mIn[149], line 35\u001b[0m, in \u001b[0;36mcalculate_weights\u001b[0;34m(variables, min_h, max_h)\u001b[0m\n\u001b[1;32m     34\u001b[0m \u001b[38;5;28;01mdef\u001b[39;00m \u001b[38;5;21mcalculate_weights\u001b[39m(variables, min_h, max_h):\n\u001b[0;32m---> 35\u001b[0m     nbins \u001b[38;5;241m=\u001b[39m \u001b[38;5;28;43mlen\u001b[39;49m\u001b[43m(\u001b[49m\u001b[43mvariables\u001b[49m\u001b[43m)\u001b[49m\n\u001b[1;32m     36\u001b[0m     weights \u001b[38;5;241m=\u001b[39m tf\u001b[38;5;241m.\u001b[39mzeros(nbins)\n\u001b[1;32m     37\u001b[0m     t \u001b[38;5;241m=\u001b[39m tf\u001b[38;5;241m.\u001b[39mlinspace(\u001b[38;5;241m0\u001b[39m, \u001b[38;5;241m1\u001b[39m, nbins)\n",
      "\u001b[0;31mTypeError\u001b[0m: object of type 'ResourceVariable' has no len()"
     ]
    }
   ],
   "source": [
    "min_h, max_h = calculate_entropy_range(model.layers[3].variables[0])\n",
    "our_h=calculate_histogram(model.layers[3].variables[0], min_h, max_h)\n"
   ]
  },
  {
   "cell_type": "code",
   "execution_count": null,
   "id": "e2791dc2-418e-466e-a405-567859b94a11",
   "metadata": {},
   "outputs": [],
   "source": []
  },
  {
   "cell_type": "code",
   "execution_count": 148,
   "id": "48f5346e-51b8-458e-8072-5cc8f559c69e",
   "metadata": {},
   "outputs": [
    {
     "data": {
      "text/plain": [
       "[<matplotlib.lines.Line2D at 0xfffee6c4e110>]"
      ]
     },
     "execution_count": 148,
     "metadata": {},
     "output_type": "execute_result"
    },
    {
     "data": {
      "image/png": "[encoded data removed]",
      "text/plain": [
       "<Figure size 640x480 with 1 Axes>"
      ]
     },
     "metadata": {},
     "output_type": "display_data"
    }
   ],
   "source": [
    "from matplotlib import pyplot as plt\n",
    "\n",
    "plt.plot(np_h[0])\n",
    "plt.plot(our_h)"
   ]
  },
  {
   "cell_type": "code",
   "execution_count": 123,
   "id": "4fd59b8e",
   "metadata": {},
   "outputs": [
    {
     "name": "stdout",
     "output_type": "stream",
     "text": [
      "   3/1875 [..............................] - ETA: 2:03:11 - loss: 27.7103"
     ]
    },
    {
     "ename": "KeyboardInterrupt",
     "evalue": "",
     "output_type": "error",
     "traceback": [
      "\u001b[0;31m---------------------------------------------------------------------------\u001b[0m",
      "\u001b[0;31mKeyboardInterrupt\u001b[0m                         Traceback (most recent call last)",
      "Cell \u001b[0;32mIn[123], line 5\u001b[0m\n\u001b[1;32m      2\u001b[0m tf\u001b[38;5;241m.\u001b[39mconfig\u001b[38;5;241m.\u001b[39mrun_functions_eagerly(\u001b[38;5;28;01mTrue\u001b[39;00m)\n\u001b[1;32m      3\u001b[0m \u001b[38;5;66;03m# check this out\u001b[39;00m\n\u001b[1;32m      4\u001b[0m \u001b[38;5;66;03m# loss doesnt change\u001b[39;00m\n\u001b[0;32m----> 5\u001b[0m \u001b[43mcompNN\u001b[49m\u001b[38;5;241;43m.\u001b[39;49m\u001b[43mfit\u001b[49m\u001b[43m(\u001b[49m\u001b[43mx\u001b[49m\u001b[38;5;241;43m=\u001b[39;49m\u001b[43mtrain_set\u001b[49m\u001b[43m[\u001b[49m\u001b[38;5;241;43m0\u001b[39;49m\u001b[43m]\u001b[49m\u001b[43m,\u001b[49m\u001b[43m \u001b[49m\u001b[43my\u001b[49m\u001b[38;5;241;43m=\u001b[39;49m\u001b[43mtrain_set\u001b[49m\u001b[43m[\u001b[49m\u001b[38;5;241;43m1\u001b[39;49m\u001b[43m]\u001b[49m\u001b[43m,\u001b[49m\u001b[43m \u001b[49m\u001b[43mepochs\u001b[49m\u001b[38;5;241;43m=\u001b[39;49m\u001b[38;5;241;43m1\u001b[39;49m\u001b[43m,\u001b[49m\u001b[43m \u001b[49m\u001b[43mbatch_size\u001b[49m\u001b[38;5;241;43m=\u001b[39;49m\u001b[38;5;241;43m32\u001b[39;49m\u001b[43m)\u001b[49m\n",
      "File \u001b[0;32m/usr/local/lib/python3.10/dist-packages/keras/utils/traceback_utils.py:65\u001b[0m, in \u001b[0;36mfilter_traceback.<locals>.error_handler\u001b[0;34m(*args, **kwargs)\u001b[0m\n\u001b[1;32m     63\u001b[0m filtered_tb \u001b[38;5;241m=\u001b[39m \u001b[38;5;28;01mNone\u001b[39;00m\n\u001b[1;32m     64\u001b[0m \u001b[38;5;28;01mtry\u001b[39;00m:\n\u001b[0;32m---> 65\u001b[0m     \u001b[38;5;28;01mreturn\u001b[39;00m \u001b[43mfn\u001b[49m\u001b[43m(\u001b[49m\u001b[38;5;241;43m*\u001b[39;49m\u001b[43margs\u001b[49m\u001b[43m,\u001b[49m\u001b[43m \u001b[49m\u001b[38;5;241;43m*\u001b[39;49m\u001b[38;5;241;43m*\u001b[39;49m\u001b[43mkwargs\u001b[49m\u001b[43m)\u001b[49m\n\u001b[1;32m     66\u001b[0m \u001b[38;5;28;01mexcept\u001b[39;00m \u001b[38;5;167;01mException\u001b[39;00m \u001b[38;5;28;01mas\u001b[39;00m e:\n\u001b[1;32m     67\u001b[0m     filtered_tb \u001b[38;5;241m=\u001b[39m _process_traceback_frames(e\u001b[38;5;241m.\u001b[39m__traceback__)\n",
      "File \u001b[0;32m/usr/local/lib/python3.10/dist-packages/keras/engine/training.py:1685\u001b[0m, in \u001b[0;36mModel.fit\u001b[0;34m(self, x, y, batch_size, epochs, verbose, callbacks, validation_split, validation_data, shuffle, class_weight, sample_weight, initial_epoch, steps_per_epoch, validation_steps, validation_batch_size, validation_freq, max_queue_size, workers, use_multiprocessing)\u001b[0m\n\u001b[1;32m   1677\u001b[0m \u001b[38;5;28;01mwith\u001b[39;00m tf\u001b[38;5;241m.\u001b[39mprofiler\u001b[38;5;241m.\u001b[39mexperimental\u001b[38;5;241m.\u001b[39mTrace(\n\u001b[1;32m   1678\u001b[0m     \u001b[38;5;124m\"\u001b[39m\u001b[38;5;124mtrain\u001b[39m\u001b[38;5;124m\"\u001b[39m,\n\u001b[1;32m   1679\u001b[0m     epoch_num\u001b[38;5;241m=\u001b[39mepoch,\n\u001b[0;32m   (...)\u001b[0m\n\u001b[1;32m   1682\u001b[0m     _r\u001b[38;5;241m=\u001b[39m\u001b[38;5;241m1\u001b[39m,\n\u001b[1;32m   1683\u001b[0m ):\n\u001b[1;32m   1684\u001b[0m     callbacks\u001b[38;5;241m.\u001b[39mon_train_batch_begin(step)\n\u001b[0;32m-> 1685\u001b[0m     tmp_logs \u001b[38;5;241m=\u001b[39m \u001b[38;5;28;43mself\u001b[39;49m\u001b[38;5;241;43m.\u001b[39;49m\u001b[43mtrain_function\u001b[49m\u001b[43m(\u001b[49m\u001b[43miterator\u001b[49m\u001b[43m)\u001b[49m\n\u001b[1;32m   1686\u001b[0m     \u001b[38;5;28;01mif\u001b[39;00m data_handler\u001b[38;5;241m.\u001b[39mshould_sync:\n\u001b[1;32m   1687\u001b[0m         context\u001b[38;5;241m.\u001b[39masync_wait()\n",
      "File \u001b[0;32m/usr/local/lib/python3.10/dist-packages/keras/engine/training.py:1284\u001b[0m, in \u001b[0;36mModel.make_train_function.<locals>.train_function\u001b[0;34m(iterator)\u001b[0m\n\u001b[1;32m   1282\u001b[0m \u001b[38;5;28;01mdef\u001b[39;00m \u001b[38;5;21mtrain_function\u001b[39m(iterator):\n\u001b[1;32m   1283\u001b[0m \u001b[38;5;250m    \u001b[39m\u001b[38;5;124;03m\"\"\"Runs a training execution with a single step.\"\"\"\u001b[39;00m\n\u001b[0;32m-> 1284\u001b[0m     \u001b[38;5;28;01mreturn\u001b[39;00m \u001b[43mstep_function\u001b[49m\u001b[43m(\u001b[49m\u001b[38;5;28;43mself\u001b[39;49m\u001b[43m,\u001b[49m\u001b[43m \u001b[49m\u001b[43miterator\u001b[49m\u001b[43m)\u001b[49m\n",
      "File \u001b[0;32m/usr/local/lib/python3.10/dist-packages/keras/engine/training.py:1268\u001b[0m, in \u001b[0;36mModel.make_train_function.<locals>.step_function\u001b[0;34m(model, iterator)\u001b[0m\n\u001b[1;32m   1264\u001b[0m     run_step \u001b[38;5;241m=\u001b[39m tf\u001b[38;5;241m.\u001b[39mfunction(\n\u001b[1;32m   1265\u001b[0m         run_step, jit_compile\u001b[38;5;241m=\u001b[39m\u001b[38;5;28;01mTrue\u001b[39;00m, reduce_retracing\u001b[38;5;241m=\u001b[39m\u001b[38;5;28;01mTrue\u001b[39;00m\n\u001b[1;32m   1266\u001b[0m     )\n\u001b[1;32m   1267\u001b[0m data \u001b[38;5;241m=\u001b[39m \u001b[38;5;28mnext\u001b[39m(iterator)\n\u001b[0;32m-> 1268\u001b[0m outputs \u001b[38;5;241m=\u001b[39m \u001b[43mmodel\u001b[49m\u001b[38;5;241;43m.\u001b[39;49m\u001b[43mdistribute_strategy\u001b[49m\u001b[38;5;241;43m.\u001b[39;49m\u001b[43mrun\u001b[49m\u001b[43m(\u001b[49m\u001b[43mrun_step\u001b[49m\u001b[43m,\u001b[49m\u001b[43m \u001b[49m\u001b[43margs\u001b[49m\u001b[38;5;241;43m=\u001b[39;49m\u001b[43m(\u001b[49m\u001b[43mdata\u001b[49m\u001b[43m,\u001b[49m\u001b[43m)\u001b[49m\u001b[43m)\u001b[49m\n\u001b[1;32m   1269\u001b[0m outputs \u001b[38;5;241m=\u001b[39m reduce_per_replica(\n\u001b[1;32m   1270\u001b[0m     outputs,\n\u001b[1;32m   1271\u001b[0m     \u001b[38;5;28mself\u001b[39m\u001b[38;5;241m.\u001b[39mdistribute_strategy,\n\u001b[1;32m   1272\u001b[0m     reduction\u001b[38;5;241m=\u001b[39m\u001b[38;5;28mself\u001b[39m\u001b[38;5;241m.\u001b[39mdistribute_reduction_method,\n\u001b[1;32m   1273\u001b[0m )\n\u001b[1;32m   1274\u001b[0m \u001b[38;5;28;01mreturn\u001b[39;00m outputs\n",
      "File \u001b[0;32m/usr/local/lib/python3.10/dist-packages/tensorflow/python/distribute/distribute_lib.py:1316\u001b[0m, in \u001b[0;36mStrategyBase.run\u001b[0;34m(***failed resolving arguments***)\u001b[0m\n\u001b[1;32m   1311\u001b[0m \u001b[38;5;28;01mwith\u001b[39;00m \u001b[38;5;28mself\u001b[39m\u001b[38;5;241m.\u001b[39mscope():\n\u001b[1;32m   1312\u001b[0m   \u001b[38;5;66;03m# tf.distribute supports Eager functions, so AutoGraph should not be\u001b[39;00m\n\u001b[1;32m   1313\u001b[0m   \u001b[38;5;66;03m# applied when the caller is also in Eager mode.\u001b[39;00m\n\u001b[1;32m   1314\u001b[0m   fn \u001b[38;5;241m=\u001b[39m autograph\u001b[38;5;241m.\u001b[39mtf_convert(\n\u001b[1;32m   1315\u001b[0m       fn, autograph_ctx\u001b[38;5;241m.\u001b[39mcontrol_status_ctx(), convert_by_default\u001b[38;5;241m=\u001b[39m\u001b[38;5;28;01mFalse\u001b[39;00m)\n\u001b[0;32m-> 1316\u001b[0m   \u001b[38;5;28;01mreturn\u001b[39;00m \u001b[38;5;28;43mself\u001b[39;49m\u001b[38;5;241;43m.\u001b[39;49m\u001b[43m_extended\u001b[49m\u001b[38;5;241;43m.\u001b[39;49m\u001b[43mcall_for_each_replica\u001b[49m\u001b[43m(\u001b[49m\u001b[43mfn\u001b[49m\u001b[43m,\u001b[49m\u001b[43m \u001b[49m\u001b[43margs\u001b[49m\u001b[38;5;241;43m=\u001b[39;49m\u001b[43margs\u001b[49m\u001b[43m,\u001b[49m\u001b[43m \u001b[49m\u001b[43mkwargs\u001b[49m\u001b[38;5;241;43m=\u001b[39;49m\u001b[43mkwargs\u001b[49m\u001b[43m)\u001b[49m\n",
      "File \u001b[0;32m/usr/local/lib/python3.10/dist-packages/tensorflow/python/distribute/distribute_lib.py:2895\u001b[0m, in \u001b[0;36mStrategyExtendedV1.call_for_each_replica\u001b[0;34m(self, fn, args, kwargs)\u001b[0m\n\u001b[1;32m   2893\u001b[0m   kwargs \u001b[38;5;241m=\u001b[39m {}\n\u001b[1;32m   2894\u001b[0m \u001b[38;5;28;01mwith\u001b[39;00m \u001b[38;5;28mself\u001b[39m\u001b[38;5;241m.\u001b[39m_container_strategy()\u001b[38;5;241m.\u001b[39mscope():\n\u001b[0;32m-> 2895\u001b[0m   \u001b[38;5;28;01mreturn\u001b[39;00m \u001b[38;5;28;43mself\u001b[39;49m\u001b[38;5;241;43m.\u001b[39;49m\u001b[43m_call_for_each_replica\u001b[49m\u001b[43m(\u001b[49m\u001b[43mfn\u001b[49m\u001b[43m,\u001b[49m\u001b[43m \u001b[49m\u001b[43margs\u001b[49m\u001b[43m,\u001b[49m\u001b[43m \u001b[49m\u001b[43mkwargs\u001b[49m\u001b[43m)\u001b[49m\n",
      "File \u001b[0;32m/usr/local/lib/python3.10/dist-packages/tensorflow/python/distribute/distribute_lib.py:3696\u001b[0m, in \u001b[0;36m_DefaultDistributionExtended._call_for_each_replica\u001b[0;34m(self, fn, args, kwargs)\u001b[0m\n\u001b[1;32m   3694\u001b[0m \u001b[38;5;28;01mdef\u001b[39;00m \u001b[38;5;21m_call_for_each_replica\u001b[39m(\u001b[38;5;28mself\u001b[39m, fn, args, kwargs):\n\u001b[1;32m   3695\u001b[0m   \u001b[38;5;28;01mwith\u001b[39;00m ReplicaContext(\u001b[38;5;28mself\u001b[39m\u001b[38;5;241m.\u001b[39m_container_strategy(), replica_id_in_sync_group\u001b[38;5;241m=\u001b[39m\u001b[38;5;241m0\u001b[39m):\n\u001b[0;32m-> 3696\u001b[0m     \u001b[38;5;28;01mreturn\u001b[39;00m \u001b[43mfn\u001b[49m\u001b[43m(\u001b[49m\u001b[38;5;241;43m*\u001b[39;49m\u001b[43margs\u001b[49m\u001b[43m,\u001b[49m\u001b[43m \u001b[49m\u001b[38;5;241;43m*\u001b[39;49m\u001b[38;5;241;43m*\u001b[39;49m\u001b[43mkwargs\u001b[49m\u001b[43m)\u001b[49m\n",
      "File \u001b[0;32m/usr/local/lib/python3.10/dist-packages/tensorflow/python/autograph/impl/api.py:595\u001b[0m, in \u001b[0;36mcall_with_unspecified_conversion_status.<locals>.wrapper\u001b[0;34m(*args, **kwargs)\u001b[0m\n\u001b[1;32m    593\u001b[0m \u001b[38;5;28;01mdef\u001b[39;00m \u001b[38;5;21mwrapper\u001b[39m(\u001b[38;5;241m*\u001b[39margs, \u001b[38;5;241m*\u001b[39m\u001b[38;5;241m*\u001b[39mkwargs):\n\u001b[1;32m    594\u001b[0m   \u001b[38;5;28;01mwith\u001b[39;00m ag_ctx\u001b[38;5;241m.\u001b[39mControlStatusCtx(status\u001b[38;5;241m=\u001b[39mag_ctx\u001b[38;5;241m.\u001b[39mStatus\u001b[38;5;241m.\u001b[39mUNSPECIFIED):\n\u001b[0;32m--> 595\u001b[0m     \u001b[38;5;28;01mreturn\u001b[39;00m \u001b[43mfunc\u001b[49m\u001b[43m(\u001b[49m\u001b[38;5;241;43m*\u001b[39;49m\u001b[43margs\u001b[49m\u001b[43m,\u001b[49m\u001b[43m \u001b[49m\u001b[38;5;241;43m*\u001b[39;49m\u001b[38;5;241;43m*\u001b[39;49m\u001b[43mkwargs\u001b[49m\u001b[43m)\u001b[49m\n",
      "File \u001b[0;32m/usr/local/lib/python3.10/dist-packages/keras/engine/training.py:1249\u001b[0m, in \u001b[0;36mModel.make_train_function.<locals>.step_function.<locals>.run_step\u001b[0;34m(data)\u001b[0m\n\u001b[1;32m   1248\u001b[0m \u001b[38;5;28;01mdef\u001b[39;00m \u001b[38;5;21mrun_step\u001b[39m(data):\n\u001b[0;32m-> 1249\u001b[0m     outputs \u001b[38;5;241m=\u001b[39m \u001b[43mmodel\u001b[49m\u001b[38;5;241;43m.\u001b[39;49m\u001b[43mtrain_step\u001b[49m\u001b[43m(\u001b[49m\u001b[43mdata\u001b[49m\u001b[43m)\u001b[49m\n\u001b[1;32m   1250\u001b[0m     \u001b[38;5;66;03m# Ensure counter is updated only if `train_step` succeeds.\u001b[39;00m\n\u001b[1;32m   1251\u001b[0m     \u001b[38;5;28;01mwith\u001b[39;00m tf\u001b[38;5;241m.\u001b[39mcontrol_dependencies(_minimum_control_deps(outputs)):\n",
      "Cell \u001b[0;32mIn[122], line 103\u001b[0m, in \u001b[0;36mCompressibleNN.train_step\u001b[0;34m(self, input)\u001b[0m\n\u001b[1;32m    100\u001b[0m     loss \u001b[38;5;241m=\u001b[39m  \u001b[38;5;28mself\u001b[39m\u001b[38;5;241m.\u001b[39mentropy_loss(images)\n\u001b[1;32m    102\u001b[0m \u001b[38;5;66;03m# Get the gradients w.r.t the loss\u001b[39;00m\n\u001b[0;32m--> 103\u001b[0m gradient \u001b[38;5;241m=\u001b[39m \u001b[43mtape\u001b[49m\u001b[38;5;241;43m.\u001b[39;49m\u001b[43mgradient\u001b[49m\u001b[43m(\u001b[49m\u001b[43mloss\u001b[49m\u001b[43m,\u001b[49m\u001b[43m \u001b[49m\u001b[38;5;28;43mself\u001b[39;49m\u001b[38;5;241;43m.\u001b[39;49m\u001b[43mnet_model\u001b[49m\u001b[38;5;241;43m.\u001b[39;49m\u001b[43mtrainable_variables\u001b[49m\u001b[43m)\u001b[49m\n\u001b[1;32m    104\u001b[0m \u001b[38;5;66;03m# Update the weights using the generator optimizer\u001b[39;00m\n\u001b[1;32m    105\u001b[0m \u001b[38;5;28mself\u001b[39m\u001b[38;5;241m.\u001b[39moptimizer\u001b[38;5;241m.\u001b[39mapply_gradients(\n\u001b[1;32m    106\u001b[0m     \u001b[38;5;28mzip\u001b[39m(gradient, \u001b[38;5;28mself\u001b[39m\u001b[38;5;241m.\u001b[39mnet_model\u001b[38;5;241m.\u001b[39mtrainable_variables)\n\u001b[1;32m    107\u001b[0m )\n",
      "File \u001b[0;32m/usr/local/lib/python3.10/dist-packages/tensorflow/python/eager/backprop.py:1063\u001b[0m, in \u001b[0;36mGradientTape.gradient\u001b[0;34m(self, target, sources, output_gradients, unconnected_gradients)\u001b[0m\n\u001b[1;32m   1057\u001b[0m   output_gradients \u001b[38;5;241m=\u001b[39m (\n\u001b[1;32m   1058\u001b[0m       composite_tensor_gradient\u001b[38;5;241m.\u001b[39mget_flat_tensors_for_gradients(\n\u001b[1;32m   1059\u001b[0m           output_gradients))\n\u001b[1;32m   1060\u001b[0m   output_gradients \u001b[38;5;241m=\u001b[39m [\u001b[38;5;28;01mNone\u001b[39;00m \u001b[38;5;28;01mif\u001b[39;00m x \u001b[38;5;129;01mis\u001b[39;00m \u001b[38;5;28;01mNone\u001b[39;00m \u001b[38;5;28;01melse\u001b[39;00m ops\u001b[38;5;241m.\u001b[39mconvert_to_tensor(x)\n\u001b[1;32m   1061\u001b[0m                       \u001b[38;5;28;01mfor\u001b[39;00m x \u001b[38;5;129;01min\u001b[39;00m output_gradients]\n\u001b[0;32m-> 1063\u001b[0m flat_grad \u001b[38;5;241m=\u001b[39m \u001b[43mimperative_grad\u001b[49m\u001b[38;5;241;43m.\u001b[39;49m\u001b[43mimperative_grad\u001b[49m\u001b[43m(\u001b[49m\n\u001b[1;32m   1064\u001b[0m \u001b[43m    \u001b[49m\u001b[38;5;28;43mself\u001b[39;49m\u001b[38;5;241;43m.\u001b[39;49m\u001b[43m_tape\u001b[49m\u001b[43m,\u001b[49m\n\u001b[1;32m   1065\u001b[0m \u001b[43m    \u001b[49m\u001b[43mflat_targets\u001b[49m\u001b[43m,\u001b[49m\n\u001b[1;32m   1066\u001b[0m \u001b[43m    \u001b[49m\u001b[43mflat_sources\u001b[49m\u001b[43m,\u001b[49m\n\u001b[1;32m   1067\u001b[0m \u001b[43m    \u001b[49m\u001b[43moutput_gradients\u001b[49m\u001b[38;5;241;43m=\u001b[39;49m\u001b[43moutput_gradients\u001b[49m\u001b[43m,\u001b[49m\n\u001b[1;32m   1068\u001b[0m \u001b[43m    \u001b[49m\u001b[43msources_raw\u001b[49m\u001b[38;5;241;43m=\u001b[39;49m\u001b[43mflat_sources_raw\u001b[49m\u001b[43m,\u001b[49m\n\u001b[1;32m   1069\u001b[0m \u001b[43m    \u001b[49m\u001b[43munconnected_gradients\u001b[49m\u001b[38;5;241;43m=\u001b[39;49m\u001b[43munconnected_gradients\u001b[49m\u001b[43m)\u001b[49m\n\u001b[1;32m   1071\u001b[0m \u001b[38;5;28;01mif\u001b[39;00m \u001b[38;5;129;01mnot\u001b[39;00m \u001b[38;5;28mself\u001b[39m\u001b[38;5;241m.\u001b[39m_persistent:\n\u001b[1;32m   1072\u001b[0m   \u001b[38;5;66;03m# Keep track of watched variables before setting tape to None\u001b[39;00m\n\u001b[1;32m   1073\u001b[0m   \u001b[38;5;28mself\u001b[39m\u001b[38;5;241m.\u001b[39m_watched_variables \u001b[38;5;241m=\u001b[39m \u001b[38;5;28mself\u001b[39m\u001b[38;5;241m.\u001b[39m_tape\u001b[38;5;241m.\u001b[39mwatched_variables()\n",
      "File \u001b[0;32m/usr/local/lib/python3.10/dist-packages/tensorflow/python/eager/imperative_grad.py:67\u001b[0m, in \u001b[0;36mimperative_grad\u001b[0;34m(tape, target, sources, output_gradients, sources_raw, unconnected_gradients)\u001b[0m\n\u001b[1;32m     63\u001b[0m \u001b[38;5;28;01mexcept\u001b[39;00m \u001b[38;5;167;01mValueError\u001b[39;00m:\n\u001b[1;32m     64\u001b[0m   \u001b[38;5;28;01mraise\u001b[39;00m \u001b[38;5;167;01mValueError\u001b[39;00m(\n\u001b[1;32m     65\u001b[0m       \u001b[38;5;124m\"\u001b[39m\u001b[38;5;124mUnknown value for unconnected_gradients: \u001b[39m\u001b[38;5;132;01m%r\u001b[39;00m\u001b[38;5;124m\"\u001b[39m \u001b[38;5;241m%\u001b[39m unconnected_gradients)\n\u001b[0;32m---> 67\u001b[0m \u001b[38;5;28;01mreturn\u001b[39;00m \u001b[43mpywrap_tfe\u001b[49m\u001b[38;5;241;43m.\u001b[39;49m\u001b[43mTFE_Py_TapeGradient\u001b[49m\u001b[43m(\u001b[49m\n\u001b[1;32m     68\u001b[0m \u001b[43m    \u001b[49m\u001b[43mtape\u001b[49m\u001b[38;5;241;43m.\u001b[39;49m\u001b[43m_tape\u001b[49m\u001b[43m,\u001b[49m\u001b[43m  \u001b[49m\u001b[38;5;66;43;03m# pylint: disable=protected-access\u001b[39;49;00m\n\u001b[1;32m     69\u001b[0m \u001b[43m    \u001b[49m\u001b[43mtarget\u001b[49m\u001b[43m,\u001b[49m\n\u001b[1;32m     70\u001b[0m \u001b[43m    \u001b[49m\u001b[43msources\u001b[49m\u001b[43m,\u001b[49m\n\u001b[1;32m     71\u001b[0m \u001b[43m    \u001b[49m\u001b[43moutput_gradients\u001b[49m\u001b[43m,\u001b[49m\n\u001b[1;32m     72\u001b[0m \u001b[43m    \u001b[49m\u001b[43msources_raw\u001b[49m\u001b[43m,\u001b[49m\n\u001b[1;32m     73\u001b[0m \u001b[43m    \u001b[49m\u001b[43mcompat\u001b[49m\u001b[38;5;241;43m.\u001b[39;49m\u001b[43mas_str\u001b[49m\u001b[43m(\u001b[49m\u001b[43munconnected_gradients\u001b[49m\u001b[38;5;241;43m.\u001b[39;49m\u001b[43mvalue\u001b[49m\u001b[43m)\u001b[49m\u001b[43m)\u001b[49m\n",
      "File \u001b[0;32m/usr/local/lib/python3.10/dist-packages/tensorflow/python/eager/backprop.py:146\u001b[0m, in \u001b[0;36m_gradient_function\u001b[0;34m(op_name, attr_tuple, num_inputs, inputs, outputs, out_grads, skip_input_indices, forward_pass_name_scope)\u001b[0m\n\u001b[1;32m    144\u001b[0m     gradient_name_scope \u001b[38;5;241m+\u001b[39m\u001b[38;5;241m=\u001b[39m forward_pass_name_scope \u001b[38;5;241m+\u001b[39m \u001b[38;5;124m\"\u001b[39m\u001b[38;5;124m/\u001b[39m\u001b[38;5;124m\"\u001b[39m\n\u001b[1;32m    145\u001b[0m   \u001b[38;5;28;01mwith\u001b[39;00m ops\u001b[38;5;241m.\u001b[39mname_scope(gradient_name_scope):\n\u001b[0;32m--> 146\u001b[0m     \u001b[38;5;28;01mreturn\u001b[39;00m \u001b[43mgrad_fn\u001b[49m\u001b[43m(\u001b[49m\u001b[43mmock_op\u001b[49m\u001b[43m,\u001b[49m\u001b[43m \u001b[49m\u001b[38;5;241;43m*\u001b[39;49m\u001b[43mout_grads\u001b[49m\u001b[43m)\u001b[49m\n\u001b[1;32m    147\u001b[0m \u001b[38;5;28;01melse\u001b[39;00m:\n\u001b[1;32m    148\u001b[0m   \u001b[38;5;28;01mreturn\u001b[39;00m grad_fn(mock_op, \u001b[38;5;241m*\u001b[39mout_grads)\n",
      "File \u001b[0;32m/usr/local/lib/python3.10/dist-packages/tensorflow/python/ops/math_grad.py:586\u001b[0m, in \u001b[0;36m_NegGrad\u001b[0;34m(_, grad)\u001b[0m\n\u001b[1;32m    583\u001b[0m \u001b[38;5;129m@ops\u001b[39m\u001b[38;5;241m.\u001b[39mRegisterGradient(\u001b[38;5;124m\"\u001b[39m\u001b[38;5;124mNeg\u001b[39m\u001b[38;5;124m\"\u001b[39m)\n\u001b[1;32m    584\u001b[0m \u001b[38;5;28;01mdef\u001b[39;00m \u001b[38;5;21m_NegGrad\u001b[39m(_, grad):\n\u001b[1;32m    585\u001b[0m \u001b[38;5;250m  \u001b[39m\u001b[38;5;124;03m\"\"\"Returns -grad.\"\"\"\u001b[39;00m\n\u001b[0;32m--> 586\u001b[0m   \u001b[38;5;28;01mreturn\u001b[39;00m \u001b[38;5;241;43m-\u001b[39;49m\u001b[43mgrad\u001b[49m\n",
      "File \u001b[0;32m/usr/local/lib/python3.10/dist-packages/tensorflow/python/ops/gen_math_ops.py:6749\u001b[0m, in \u001b[0;36mneg\u001b[0;34m(x, name)\u001b[0m\n\u001b[1;32m   6747\u001b[0m \u001b[38;5;28;01mif\u001b[39;00m tld\u001b[38;5;241m.\u001b[39mis_eager:\n\u001b[1;32m   6748\u001b[0m   \u001b[38;5;28;01mtry\u001b[39;00m:\n\u001b[0;32m-> 6749\u001b[0m     _result \u001b[38;5;241m=\u001b[39m \u001b[43mpywrap_tfe\u001b[49m\u001b[38;5;241;43m.\u001b[39;49m\u001b[43mTFE_Py_FastPathExecute\u001b[49m\u001b[43m(\u001b[49m\n\u001b[1;32m   6750\u001b[0m \u001b[43m      \u001b[49m\u001b[43m_ctx\u001b[49m\u001b[43m,\u001b[49m\u001b[43m \u001b[49m\u001b[38;5;124;43m\"\u001b[39;49m\u001b[38;5;124;43mNeg\u001b[39;49m\u001b[38;5;124;43m\"\u001b[39;49m\u001b[43m,\u001b[49m\u001b[43m \u001b[49m\u001b[43mname\u001b[49m\u001b[43m,\u001b[49m\u001b[43m \u001b[49m\u001b[43mx\u001b[49m\u001b[43m)\u001b[49m\n\u001b[1;32m   6751\u001b[0m     \u001b[38;5;28;01mreturn\u001b[39;00m _result\n\u001b[1;32m   6752\u001b[0m   \u001b[38;5;28;01mexcept\u001b[39;00m _core\u001b[38;5;241m.\u001b[39m_NotOkStatusException \u001b[38;5;28;01mas\u001b[39;00m e:\n",
      "\u001b[0;31mKeyboardInterrupt\u001b[0m: "
     ]
    }
   ],
   "source": [
    "# train the model\n",
    "tf.config.run_functions_eagerly(True)\n",
    "# check this out\n",
    "# loss doesnt change\n",
    "compNN.fit(x=train_set[0], y=train_set[1], epochs=1, batch_size=32)"
   ]
  },
  {
   "cell_type": "code",
   "execution_count": 53,
   "id": "22f9f5e6",
   "metadata": {},
   "outputs": [
    {
     "name": "stdout",
     "output_type": "stream",
     "text": [
      "test acc:  96.02000000000001\n"
     ]
    }
   ],
   "source": [
    "# test performance\n",
    "res = model(test_set[0])\n",
    "print(\"test acc: \", 100*(np.argmax(res, axis=1)==test_set[1]).mean())"
   ]
  },
  {
   "cell_type": "code",
   "execution_count": 56,
   "id": "ea567bd1-7137-49cd-9824-36e918ad0b07",
   "metadata": {},
   "outputs": [
    {
     "name": "stdout",
     "output_type": "stream",
     "text": [
      "test acc:  96.61\n"
     ]
    }
   ],
   "source": [
    "# test performance with entropy_loss\n",
    "res = model(test_set[0])\n",
    "print(\"test acc: \", 100*(np.argmax(res, axis=1)==test_set[1]).mean())"
   ]
  },
  {
   "cell_type": "code",
   "execution_count": null,
   "id": "8f4cfb0d-21e8-40bf-97ab-e23562acfdf4",
   "metadata": {},
   "outputs": [],
   "source": []
  }
 ],
 "metadata": {
  "kernelspec": {
   "display_name": "Python 3 (ipykernel)",
   "language": "python",
   "name": "python3"
  },
  "language_info": {
   "codemirror_mode": {
    "name": "ipython",
    "version": 3
   },
   "file_extension": ".py",
   "mimetype": "text/x-python",
   "name": "python",
   "nbconvert_exporter": "python",
   "pygments_lexer": "ipython3",
   "version": "3.10.10"
  }
 },
 "nbformat": 4,
 "nbformat_minor": 5
}
